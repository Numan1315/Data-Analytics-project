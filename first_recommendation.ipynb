{
 "cells": [
  {
   "cell_type": "code",
   "execution_count": 1,
   "metadata": {},
   "outputs": [],
   "source": [
    "from sklearn.model_selection import train_test_split       # for splitting dataset\n",
    "from tensorflow.keras.preprocessing.text import Tokenizer  # to encode text to int\n",
    "from tensorflow.keras.preprocessing.sequence import pad_sequences   # to do padding or truncating\n",
    "from tensorflow.keras.models import Sequential     # the model\n",
    "from tensorflow.keras.layers import Embedding, LSTM, Dense # layers of the architecture\n",
    "from tensorflow.keras.callbacks import ModelCheckpoint   # save model\n",
    "from tensorflow.keras.models import load_model   # load saved model\n",
    "import re\n",
    "from sklearn.feature_extraction.text import CountVectorizer\n",
    "from sklearn.metrics.pairwise import cosine_similarity\n",
    "from sklearn.feature_extraction.text import TfidfVectorizer\n",
    "from sklearn.feature_extraction.text import CountVectorizer\n",
    "from sklearn.model_selection import GridSearchCV\n",
    "from sklearn.naive_bayes import  MultinomialNB\n",
    "from sklearn.metrics import classification_report\n",
    "from sklearn.linear_model import LogisticRegression\n",
    "from math import cos, asin, sqrt, pi"
   ]
  },
  {
   "cell_type": "markdown",
   "metadata": {},
   "source": [
    "### Finding the cosine similarities based on cuisines column "
   ]
  },
  {
   "cell_type": "code",
   "execution_count": 2,
   "metadata": {},
   "outputs": [],
   "source": [
    "def csrc(df):\n",
    "    list2 = []\n",
    "    for i in df.cuisines:\n",
    "        list2.append(list(set(i)))\n",
    "    \n",
    "    vect = CountVectorizer(analyzer = lambda x:x)\n",
    "    matrix2=vect.fit_transform(list2).toarray()\n",
    "    \n",
    "    cosine_similarities_cui = cosine_similarity(matrix2, matrix2)\n",
    "    return cosine_similarities_cui,vect    "
   ]
  },
  {
   "cell_type": "markdown",
   "metadata": {},
   "source": [
    "### Finding the cosine similarities based on dish_liked column "
   ]
  },
  {
   "cell_type": "code",
   "execution_count": 3,
   "metadata": {},
   "outputs": [],
   "source": [
    "def csrd(df):\n",
    "    list1 = []\n",
    "    for i in df.dish_liked:\n",
    "        list1.append(list(set(i)))\n",
    "    vect = CountVectorizer(analyzer = lambda x:x)\n",
    "    matrix1=vect.fit_transform(list1).toarray()\n",
    "    \n",
    "    cosine_similarities_dish = cosine_similarity(matrix1, matrix1)\n",
    "    return cosine_similarities_dish,vect"
   ]
  },
  {
   "cell_type": "markdown",
   "metadata": {},
   "source": [
    "### Finding the cosine similarities based on reviews column "
   ]
  },
  {
   "cell_type": "code",
   "execution_count": 4,
   "metadata": {},
   "outputs": [],
   "source": [
    "def csrr(df):\n",
    "    \n",
    "    tfidf = TfidfVectorizer(analyzer='word', ngram_range=(1, 2), min_df=0, stop_words='english')\n",
    "    tfidf_matrix_reviews = tfidf.fit_transform(df['reviews'])\n",
    "    \n",
    "    cosine_similarities_rewiew = cosine_similarity(tfidf_matrix_reviews, tfidf_matrix_reviews)\n",
    "    return cosine_similarities_rewiew,tfidf"
   ]
  },
  {
   "cell_type": "markdown",
   "metadata": {},
   "source": [
    "### Sentiment Analysis of the reviews using Linear Regression Model and Multinomial Naive bayes Model"
   ]
  },
  {
   "cell_type": "code",
   "execution_count": 5,
   "metadata": {},
   "outputs": [],
   "source": [
    "def sentiment_lr_mnb(rating):\n",
    "    vectorizer = CountVectorizer(token_pattern=r'\\b\\w+\\b',ngram_range=(1,2))\n",
    "    train_matrix= vectorizer.fit_transform(rating['Lemma'])\n",
    "    lr = LogisticRegression()\n",
    "    X_train = train_matrix\n",
    "    #X_test = test_matrix\n",
    "    y_train = rating['rate_pred1']\n",
    "    lr.fit(X_train,y_train)\n",
    "    clf = MultinomialNB(alpha=1)\n",
    "    clf.fit(X_train,y_train)\n",
    "    return lr,clf,vectorizer \n"
   ]
  },
  {
   "cell_type": "markdown",
   "metadata": {},
   "source": [
    "### Sentiment Analysis of the reviews using LSTM Model"
   ]
  },
  {
   "cell_type": "code",
   "execution_count": 6,
   "metadata": {},
   "outputs": [],
   "source": [
    "def get_max_length(x):\n",
    "    review_length = []\n",
    "    for review in x:\n",
    "        review_length.append(len(review))\n",
    "    return int(np.ceil(np.mean(review_length)))\n",
    "def sentiment_lstm(rating):\n",
    "    x=rating['Lemma']\n",
    "    y=rating['rate_pred1']\n",
    "    token = Tokenizer(lower=False)    # no need lower, because already lowered the data in load_data()\n",
    "    token.fit_on_texts(x)\n",
    "    x= token.texts_to_sequences(x)\n",
    "\n",
    "    max_length = get_max_length(x)\n",
    "\n",
    "    x = pad_sequences(x, maxlen=max_length, padding='post', truncating='post')\n",
    "\n",
    "    total_words = len(token.word_index) + 1\n",
    "    EMBED_DIM = 32\n",
    "    LSTM_OUT = 64\n",
    "\n",
    "    model = Sequential()\n",
    "    model.add(Embedding(total_words, EMBED_DIM, input_length = max_length))\n",
    "    model.add(LSTM(LSTM_OUT))\n",
    "    model.add(Dense(1, activation='sigmoid'))\n",
    "    model.compile(optimizer = 'adam', loss = 'binary_crossentropy', metrics = ['accuracy'])\n",
    "    checkpoint = ModelCheckpoint(\n",
    "    'models/LSTM.h5',\n",
    "    monitor='accuracy',\n",
    "    save_best_only=True,\n",
    "    verbose=1\n",
    "    )\n",
    "    model.fit(x, y, batch_size = 128, epochs = 5, callbacks=[checkpoint])\n",
    "    return model,token,max_length"
   ]
  },
  {
   "cell_type": "markdown",
   "metadata": {},
   "source": [
    "### Recommending top restaurants based on cosine similarity"
   ]
  },
  {
   "cell_type": "code",
   "execution_count": 7,
   "metadata": {},
   "outputs": [],
   "source": [
    "def recommend(index,cosine_similarities,df):\n",
    "    indices=pd.Series(df.index)\n",
    "    # Create a list to put top restaurants\n",
    "    restaurant_recom = []\n",
    "    for i in index:\n",
    "        # Find the index of the hotel entered\n",
    "        idx = indices[indices == i].index[0]\n",
    "        top_indexes = []\n",
    "        # Find the restaurants with a similar cosine-sim value and order them from bigges number\n",
    "        score_series = pd.Series(cosine_similarities[idx]).sort_values(ascending=False)\n",
    "        # Extract top 30 restaurant indexes with a similar cosine-sim value\n",
    "        #print(score_series.iloc[0:30])\n",
    "        for i in score_series.index:\n",
    "            if(score_series[i]>0.85):\n",
    "                top_indexes.append(i)\n",
    "        #Name of top restaurants\n",
    "        for each in top_indexes:\n",
    "            restaurant_recom.append(list(df.index)[each])\n",
    "\n",
    "    df_new = pd.DataFrame(columns=df.columns)\n",
    "\n",
    "    for item in  restaurant_recom:\n",
    "        df_new = df_new.append(pd.DataFrame(df[df.columns][df.index == item].sample()))\n",
    "    return df_new\n",
    "    "
   ]
  },
  {
   "cell_type": "markdown",
   "metadata": {},
   "source": [
    "### Function to recommend restaurants based on cost and location"
   ]
  },
  {
   "cell_type": "code",
   "execution_count": 8,
   "metadata": {},
   "outputs": [],
   "source": [
    "def chooseloc(df,la,lo,cost):\n",
    "    df['man_dist']=0\n",
    "    df['loc_dist_km']=0\n",
    "    lm=[]\n",
    "    lk=[]\n",
    "    for i,j in (zip(df.iloc[:,16],df.iloc[:,17])):\n",
    "        p = pi/180\n",
    "        a = 0.5 - cos((la-float(i))*p)/2 + cos(la*p) * cos(float(i)*p) * (1-cos((lo-float(j))*p))/2\n",
    "        d=12742 * asin(sqrt(a))\n",
    "        m=abs(float(i)-la)+abs(float(j)-lo)\n",
    "        lm.append(m)\n",
    "        lk.append(d)\n",
    "    df[\"man_dist\"]=lm\n",
    "    df[\"loc_dist_km\"]=lk\n",
    "    df=df[(df['approx_cost(for two people)']<cost)]\n",
    "    df=df[df['loc_dist_km']<5]\n",
    "    df=df[df['final_rate']>3]\n",
    "    df=df.sort_values(by=[\"final_rate\",\"loc_dist_km\"],ascending=(False,True))\n",
    "    return df"
   ]
  },
  {
   "cell_type": "code",
   "execution_count": 9,
   "metadata": {},
   "outputs": [],
   "source": [
    "def choosetime(t,user):\n",
    "    if(t<dt.time(11,30) and t>=dt.time(5,30)):\n",
    "        mor=user[(user['Time'].dt.time < dt.time(11,30)) & (user['Time'].dt.time >= dt.time(5,30))]\n",
    "        return mor\n",
    "    elif(t>=dt.time(11,30) and t<dt.time(16,0)):\n",
    "        noon=user[(user['Time'].dt.time >= dt.time(11,30)) & (user['Time'].dt.time < dt.time(16,0))]\n",
    "        return noon\n",
    "    else:\n",
    "        night=user[(user['Time'].dt.time >= dt.time(16,0)) | (user['Time'].dt.time < dt.time(5,30))]\n",
    "        return night"
   ]
  },
  {
   "cell_type": "markdown",
   "metadata": {},
   "source": [
    "# call once\n"
   ]
  },
  {
   "cell_type": "code",
   "execution_count": 10,
   "metadata": {},
   "outputs": [
    {
     "data": {
      "application/javascript": [
       "\n",
       "        if (window._pyforest_update_imports_cell) { window._pyforest_update_imports_cell('import pandas as pd'); }\n",
       "    "
      ],
      "text/plain": [
       "<IPython.core.display.Javascript object>"
      ]
     },
     "metadata": {},
     "output_type": "display_data"
    },
    {
     "data": {
      "application/javascript": [
       "\n",
       "        if (window._pyforest_update_imports_cell) { window._pyforest_update_imports_cell('import pandas as pd'); }\n",
       "    "
      ],
      "text/plain": [
       "<IPython.core.display.Javascript object>"
      ]
     },
     "metadata": {},
     "output_type": "display_data"
    }
   ],
   "source": [
    "rating = pd.read_pickle(\"Ratings2.pkl\")\n",
    "df=pd.read_pickle(\"final_final.pkl\")"
   ]
  },
  {
   "cell_type": "code",
   "execution_count": 11,
   "metadata": {
    "scrolled": false
   },
   "outputs": [],
   "source": [
    "cosine_similarities_cui,vectc=csrc(df)\n",
    "cosine_similarities_dish,vectd=csrd(df)\n",
    "cosine_similarities_final = (cosine_similarities_cui + cosine_similarities_dish)/2.0\n",
    "#lr,mnb,sentivectlr = sentiment_lr_mnb(rating)\n",
    "#lstm,lstmtoken,max_length = sentiment_lstm(rating)"
   ]
  },
  {
   "cell_type": "code",
   "execution_count": 12,
   "metadata": {},
   "outputs": [
    {
     "name": "stderr",
     "output_type": "stream",
     "text": [
      "C:\\Users\\Noman\\Anaconda3\\lib\\site-packages\\sklearn\\linear_model\\_logistic.py:762: ConvergenceWarning: lbfgs failed to converge (status=1):\n",
      "STOP: TOTAL NO. of ITERATIONS REACHED LIMIT.\n",
      "\n",
      "Increase the number of iterations (max_iter) or scale the data as shown in:\n",
      "    https://scikit-learn.org/stable/modules/preprocessing.html\n",
      "Please also refer to the documentation for alternative solver options:\n",
      "    https://scikit-learn.org/stable/modules/linear_model.html#logistic-regression\n",
      "  n_iter_i = _check_optimize_result(\n"
     ]
    },
    {
     "data": {
      "application/javascript": [
       "\n",
       "        if (window._pyforest_update_imports_cell) { window._pyforest_update_imports_cell('import pandas as pd\\nimport numpy as np'); }\n",
       "    "
      ],
      "text/plain": [
       "<IPython.core.display.Javascript object>"
      ]
     },
     "metadata": {},
     "output_type": "display_data"
    },
    {
     "data": {
      "application/javascript": [
       "\n",
       "        if (window._pyforest_update_imports_cell) { window._pyforest_update_imports_cell('import pandas as pd\\nimport numpy as np'); }\n",
       "    "
      ],
      "text/plain": [
       "<IPython.core.display.Javascript object>"
      ]
     },
     "metadata": {},
     "output_type": "display_data"
    },
    {
     "name": "stdout",
     "output_type": "stream",
     "text": [
      "Epoch 1/5\n",
      "979/979 [==============================] - 55s 53ms/step - loss: 0.3592 - accuracy: 0.8428\n",
      "\n",
      "Epoch 00001: accuracy improved from -inf to 0.84284, saving model to models\\LSTM.h5\n",
      "Epoch 2/5\n",
      "979/979 [==============================] - 53s 54ms/step - loss: 0.2859 - accuracy: 0.8784\n",
      "\n",
      "Epoch 00002: accuracy improved from 0.84284 to 0.87840, saving model to models\\LSTM.h5\n",
      "Epoch 3/5\n",
      "979/979 [==============================] - 52s 53ms/step - loss: 0.2492 - accuracy: 0.8938\n",
      "\n",
      "Epoch 00003: accuracy improved from 0.87840 to 0.89378, saving model to models\\LSTM.h5\n",
      "Epoch 4/5\n",
      "979/979 [==============================] - 54s 55ms/step - loss: 0.2163 - accuracy: 0.9070\n",
      "\n",
      "Epoch 00004: accuracy improved from 0.89378 to 0.90695, saving model to models\\LSTM.h5\n",
      "Epoch 5/5\n",
      "979/979 [==============================] - 56s 57ms/step - loss: 0.1888 - accuracy: 0.9192\n",
      "\n",
      "Epoch 00005: accuracy improved from 0.90695 to 0.91918, saving model to models\\LSTM.h5\n"
     ]
    }
   ],
   "source": [
    "lr,mnb,sentivectlr = sentiment_lr_mnb(rating)\n",
    "lstm,lstmtoken,max_length = sentiment_lstm(rating)"
   ]
  },
  {
   "cell_type": "markdown",
   "metadata": {},
   "source": [
    "##### Restaurant-Restaurant Recommendation (Content-Based filtering and Knowledge-based filtering)"
   ]
  },
  {
   "cell_type": "code",
   "execution_count": 13,
   "metadata": {},
   "outputs": [],
   "source": [
    "def rec_user(user,t,lat,long,df):\n",
    "    timing=choosetime(t,user)\n",
    "    c=0\n",
    "    while(len(timing)==0 and c<2):\n",
    "        c+=1\n",
    "        if(dt.time(5,30)<=t and t<dt.time(11,30)):\n",
    "            t=dt.time(12,0)\n",
    "            timing=choosetime(t,user)\n",
    "        elif(dt.time(16,0)>t and t>=dt.time(11,30)):\n",
    "            t=dt.time(17,0)\n",
    "            timing=choosetime(t,user)\n",
    "        else:\n",
    "            t=dt.time(12,0)\n",
    "            timing=choosetime(t,user)\n",
    "    #------no timing\n",
    "    if(len(timing)==0):\n",
    "        final_rec=chooseloc(df,lat,long,costt)\n",
    "        return final_rec\n",
    "    else:\n",
    "        test_matrix = sentivectlr.transform(timing['Review'])\n",
    "        predlr = lr.predict(test_matrix)\n",
    "        prednb=mnb.predict(test_matrix)\n",
    "        x_test=timing['Review']\n",
    "        x_test = lstmtoken.texts_to_sequences(x_test)\n",
    "        x_test = pad_sequences(x_test, maxlen=max_length, padding='post', truncating='post')\n",
    "        pred = list(lstm.predict(x_test))\n",
    "        for i in range(len(pred)):\n",
    "            pred[i]=int(round(pred[i][0],0))\n",
    "        predlstm=np.array(pred)\n",
    "        majority=list(predlr+prednb+predlstm)\n",
    "        l=[]\n",
    "        n=[]\n",
    "        for i in range(len(majority)):\n",
    "            if majority[i] >=2:\n",
    "                l.append(user['Restaurant_Id'][i])\n",
    "            else:\n",
    "                n.append(user['Restaurant_Id'][i])\n",
    "                continue\n",
    "        if(len(l)>0):\n",
    "            rec=recommend(l,cosine_similarities_final,df)\n",
    "            k = l\n",
    "        else:\n",
    "            rec=recommend(n,cosine_similarity_dc,df)\n",
    "            k = n\n",
    "        rec= rec.drop_duplicates(['name','address'])\n",
    "        costt=max(timing['Price'])+100\n",
    "        final_rec=chooseloc(rec,lat,long,costt)\n",
    "        return final_rec,k"
   ]
  },
  {
   "cell_type": "code",
   "execution_count": 28,
   "metadata": {
    "scrolled": false
   },
   "outputs": [
    {
     "data": {
      "application/javascript": [
       "\n",
       "        if (window._pyforest_update_imports_cell) { window._pyforest_update_imports_cell('import pandas as pd\\nimport numpy as np'); }\n",
       "    "
      ],
      "text/plain": [
       "<IPython.core.display.Javascript object>"
      ]
     },
     "metadata": {},
     "output_type": "display_data"
    },
    {
     "data": {
      "application/javascript": [
       "\n",
       "        if (window._pyforest_update_imports_cell) { window._pyforest_update_imports_cell('import pandas as pd\\nimport numpy as np'); }\n",
       "    "
      ],
      "text/plain": [
       "<IPython.core.display.Javascript object>"
      ]
     },
     "metadata": {},
     "output_type": "display_data"
    },
    {
     "data": {
      "application/javascript": [
       "\n",
       "        if (window._pyforest_update_imports_cell) { window._pyforest_update_imports_cell('import pandas as pd\\nimport numpy as np'); }\n",
       "    "
      ],
      "text/plain": [
       "<IPython.core.display.Javascript object>"
      ]
     },
     "metadata": {},
     "output_type": "display_data"
    },
    {
     "data": {
      "application/javascript": [
       "\n",
       "        if (window._pyforest_update_imports_cell) { window._pyforest_update_imports_cell('import pandas as pd\\nimport numpy as np'); }\n",
       "    "
      ],
      "text/plain": [
       "<IPython.core.display.Javascript object>"
      ]
     },
     "metadata": {},
     "output_type": "display_data"
    },
    {
     "data": {
      "application/javascript": [
       "\n",
       "        if (window._pyforest_update_imports_cell) { window._pyforest_update_imports_cell('import pandas as pd\\nimport numpy as np'); }\n",
       "    "
      ],
      "text/plain": [
       "<IPython.core.display.Javascript object>"
      ]
     },
     "metadata": {},
     "output_type": "display_data"
    },
    {
     "data": {
      "application/javascript": [
       "\n",
       "        if (window._pyforest_update_imports_cell) { window._pyforest_update_imports_cell('import pandas as pd\\nimport numpy as np'); }\n",
       "    "
      ],
      "text/plain": [
       "<IPython.core.display.Javascript object>"
      ]
     },
     "metadata": {},
     "output_type": "display_data"
    },
    {
     "data": {
      "application/javascript": [
       "\n",
       "        if (window._pyforest_update_imports_cell) { window._pyforest_update_imports_cell('import pandas as pd\\nimport numpy as np'); }\n",
       "    "
      ],
      "text/plain": [
       "<IPython.core.display.Javascript object>"
      ]
     },
     "metadata": {},
     "output_type": "display_data"
    },
    {
     "data": {
      "application/javascript": [
       "\n",
       "        if (window._pyforest_update_imports_cell) { window._pyforest_update_imports_cell('import pandas as pd\\nimport numpy as np'); }\n",
       "    "
      ],
      "text/plain": [
       "<IPython.core.display.Javascript object>"
      ]
     },
     "metadata": {},
     "output_type": "display_data"
    },
    {
     "data": {
      "application/javascript": [
       "\n",
       "        if (window._pyforest_update_imports_cell) { window._pyforest_update_imports_cell('import pandas as pd\\nimport numpy as np'); }\n",
       "    "
      ],
      "text/plain": [
       "<IPython.core.display.Javascript object>"
      ]
     },
     "metadata": {},
     "output_type": "display_data"
    },
    {
     "data": {
      "application/javascript": [
       "\n",
       "        if (window._pyforest_update_imports_cell) { window._pyforest_update_imports_cell('import pandas as pd\\nimport numpy as np'); }\n",
       "    "
      ],
      "text/plain": [
       "<IPython.core.display.Javascript object>"
      ]
     },
     "metadata": {},
     "output_type": "display_data"
    },
    {
     "data": {
      "application/javascript": [
       "\n",
       "        if (window._pyforest_update_imports_cell) { window._pyforest_update_imports_cell('import pandas as pd\\nimport numpy as np'); }\n",
       "    "
      ],
      "text/plain": [
       "<IPython.core.display.Javascript object>"
      ]
     },
     "metadata": {},
     "output_type": "display_data"
    },
    {
     "data": {
      "application/javascript": [
       "\n",
       "        if (window._pyforest_update_imports_cell) { window._pyforest_update_imports_cell('import pandas as pd\\nimport numpy as np'); }\n",
       "    "
      ],
      "text/plain": [
       "<IPython.core.display.Javascript object>"
      ]
     },
     "metadata": {},
     "output_type": "display_data"
    },
    {
     "data": {
      "application/javascript": [
       "\n",
       "        if (window._pyforest_update_imports_cell) { window._pyforest_update_imports_cell('import pandas as pd\\nimport numpy as np'); }\n",
       "    "
      ],
      "text/plain": [
       "<IPython.core.display.Javascript object>"
      ]
     },
     "metadata": {},
     "output_type": "display_data"
    },
    {
     "data": {
      "application/javascript": [
       "\n",
       "        if (window._pyforest_update_imports_cell) { window._pyforest_update_imports_cell('import pandas as pd\\nimport numpy as np'); }\n",
       "    "
      ],
      "text/plain": [
       "<IPython.core.display.Javascript object>"
      ]
     },
     "metadata": {},
     "output_type": "display_data"
    },
    {
     "data": {
      "application/javascript": [
       "\n",
       "        if (window._pyforest_update_imports_cell) { window._pyforest_update_imports_cell('import pandas as pd\\nimport numpy as np'); }\n",
       "    "
      ],
      "text/plain": [
       "<IPython.core.display.Javascript object>"
      ]
     },
     "metadata": {},
     "output_type": "display_data"
    },
    {
     "data": {
      "application/javascript": [
       "\n",
       "        if (window._pyforest_update_imports_cell) { window._pyforest_update_imports_cell('import pandas as pd\\nimport numpy as np'); }\n",
       "    "
      ],
      "text/plain": [
       "<IPython.core.display.Javascript object>"
      ]
     },
     "metadata": {},
     "output_type": "display_data"
    },
    {
     "data": {
      "application/javascript": [
       "\n",
       "        if (window._pyforest_update_imports_cell) { window._pyforest_update_imports_cell('import pandas as pd\\nimport numpy as np'); }\n",
       "    "
      ],
      "text/plain": [
       "<IPython.core.display.Javascript object>"
      ]
     },
     "metadata": {},
     "output_type": "display_data"
    },
    {
     "data": {
      "application/javascript": [
       "\n",
       "        if (window._pyforest_update_imports_cell) { window._pyforest_update_imports_cell('import pandas as pd\\nimport numpy as np'); }\n",
       "    "
      ],
      "text/plain": [
       "<IPython.core.display.Javascript object>"
      ]
     },
     "metadata": {},
     "output_type": "display_data"
    },
    {
     "data": {
      "application/javascript": [
       "\n",
       "        if (window._pyforest_update_imports_cell) { window._pyforest_update_imports_cell('import pandas as pd\\nimport numpy as np'); }\n",
       "    "
      ],
      "text/plain": [
       "<IPython.core.display.Javascript object>"
      ]
     },
     "metadata": {},
     "output_type": "display_data"
    },
    {
     "data": {
      "application/javascript": [
       "\n",
       "        if (window._pyforest_update_imports_cell) { window._pyforest_update_imports_cell('import pandas as pd\\nimport numpy as np'); }\n",
       "    "
      ],
      "text/plain": [
       "<IPython.core.display.Javascript object>"
      ]
     },
     "metadata": {},
     "output_type": "display_data"
    },
    {
     "data": {
      "application/javascript": [
       "\n",
       "        if (window._pyforest_update_imports_cell) { window._pyforest_update_imports_cell('import pandas as pd\\nimport numpy as np'); }\n",
       "    "
      ],
      "text/plain": [
       "<IPython.core.display.Javascript object>"
      ]
     },
     "metadata": {},
     "output_type": "display_data"
    },
    {
     "data": {
      "application/javascript": [
       "\n",
       "        if (window._pyforest_update_imports_cell) { window._pyforest_update_imports_cell('import pandas as pd\\nimport numpy as np'); }\n",
       "    "
      ],
      "text/plain": [
       "<IPython.core.display.Javascript object>"
      ]
     },
     "metadata": {},
     "output_type": "display_data"
    },
    {
     "data": {
      "application/javascript": [
       "\n",
       "        if (window._pyforest_update_imports_cell) { window._pyforest_update_imports_cell('import pandas as pd\\nimport numpy as np'); }\n",
       "    "
      ],
      "text/plain": [
       "<IPython.core.display.Javascript object>"
      ]
     },
     "metadata": {},
     "output_type": "display_data"
    },
    {
     "data": {
      "application/javascript": [
       "\n",
       "        if (window._pyforest_update_imports_cell) { window._pyforest_update_imports_cell('import pandas as pd\\nimport numpy as np'); }\n",
       "    "
      ],
      "text/plain": [
       "<IPython.core.display.Javascript object>"
      ]
     },
     "metadata": {},
     "output_type": "display_data"
    },
    {
     "data": {
      "application/javascript": [
       "\n",
       "        if (window._pyforest_update_imports_cell) { window._pyforest_update_imports_cell('import pandas as pd\\nimport numpy as np'); }\n",
       "    "
      ],
      "text/plain": [
       "<IPython.core.display.Javascript object>"
      ]
     },
     "metadata": {},
     "output_type": "display_data"
    },
    {
     "data": {
      "application/javascript": [
       "\n",
       "        if (window._pyforest_update_imports_cell) { window._pyforest_update_imports_cell('import pandas as pd\\nimport numpy as np'); }\n",
       "    "
      ],
      "text/plain": [
       "<IPython.core.display.Javascript object>"
      ]
     },
     "metadata": {},
     "output_type": "display_data"
    },
    {
     "data": {
      "application/javascript": [
       "\n",
       "        if (window._pyforest_update_imports_cell) { window._pyforest_update_imports_cell('import pandas as pd\\nimport numpy as np'); }\n",
       "    "
      ],
      "text/plain": [
       "<IPython.core.display.Javascript object>"
      ]
     },
     "metadata": {},
     "output_type": "display_data"
    },
    {
     "data": {
      "application/javascript": [
       "\n",
       "        if (window._pyforest_update_imports_cell) { window._pyforest_update_imports_cell('import pandas as pd\\nimport numpy as np'); }\n",
       "    "
      ],
      "text/plain": [
       "<IPython.core.display.Javascript object>"
      ]
     },
     "metadata": {},
     "output_type": "display_data"
    },
    {
     "data": {
      "application/javascript": [
       "\n",
       "        if (window._pyforest_update_imports_cell) { window._pyforest_update_imports_cell('import pandas as pd\\nimport numpy as np'); }\n",
       "    "
      ],
      "text/plain": [
       "<IPython.core.display.Javascript object>"
      ]
     },
     "metadata": {},
     "output_type": "display_data"
    },
    {
     "data": {
      "application/javascript": [
       "\n",
       "        if (window._pyforest_update_imports_cell) { window._pyforest_update_imports_cell('import pandas as pd\\nimport numpy as np'); }\n",
       "    "
      ],
      "text/plain": [
       "<IPython.core.display.Javascript object>"
      ]
     },
     "metadata": {},
     "output_type": "display_data"
    },
    {
     "data": {
      "application/javascript": [
       "\n",
       "        if (window._pyforest_update_imports_cell) { window._pyforest_update_imports_cell('import pandas as pd\\nimport numpy as np'); }\n",
       "    "
      ],
      "text/plain": [
       "<IPython.core.display.Javascript object>"
      ]
     },
     "metadata": {},
     "output_type": "display_data"
    },
    {
     "data": {
      "application/javascript": [
       "\n",
       "        if (window._pyforest_update_imports_cell) { window._pyforest_update_imports_cell('import pandas as pd\\nimport numpy as np'); }\n",
       "    "
      ],
      "text/plain": [
       "<IPython.core.display.Javascript object>"
      ]
     },
     "metadata": {},
     "output_type": "display_data"
    },
    {
     "data": {
      "application/javascript": [
       "\n",
       "        if (window._pyforest_update_imports_cell) { window._pyforest_update_imports_cell('import pandas as pd\\nimport numpy as np'); }\n",
       "    "
      ],
      "text/plain": [
       "<IPython.core.display.Javascript object>"
      ]
     },
     "metadata": {},
     "output_type": "display_data"
    },
    {
     "data": {
      "application/javascript": [
       "\n",
       "        if (window._pyforest_update_imports_cell) { window._pyforest_update_imports_cell('import pandas as pd\\nimport numpy as np'); }\n",
       "    "
      ],
      "text/plain": [
       "<IPython.core.display.Javascript object>"
      ]
     },
     "metadata": {},
     "output_type": "display_data"
    },
    {
     "data": {
      "application/javascript": [
       "\n",
       "        if (window._pyforest_update_imports_cell) { window._pyforest_update_imports_cell('import pandas as pd\\nimport numpy as np'); }\n",
       "    "
      ],
      "text/plain": [
       "<IPython.core.display.Javascript object>"
      ]
     },
     "metadata": {},
     "output_type": "display_data"
    },
    {
     "data": {
      "application/javascript": [
       "\n",
       "        if (window._pyforest_update_imports_cell) { window._pyforest_update_imports_cell('import pandas as pd\\nimport numpy as np'); }\n",
       "    "
      ],
      "text/plain": [
       "<IPython.core.display.Javascript object>"
      ]
     },
     "metadata": {},
     "output_type": "display_data"
    },
    {
     "data": {
      "application/javascript": [
       "\n",
       "        if (window._pyforest_update_imports_cell) { window._pyforest_update_imports_cell('import pandas as pd\\nimport numpy as np'); }\n",
       "    "
      ],
      "text/plain": [
       "<IPython.core.display.Javascript object>"
      ]
     },
     "metadata": {},
     "output_type": "display_data"
    },
    {
     "data": {
      "application/javascript": [
       "\n",
       "        if (window._pyforest_update_imports_cell) { window._pyforest_update_imports_cell('import pandas as pd\\nimport numpy as np'); }\n",
       "    "
      ],
      "text/plain": [
       "<IPython.core.display.Javascript object>"
      ]
     },
     "metadata": {},
     "output_type": "display_data"
    },
    {
     "data": {
      "application/javascript": [
       "\n",
       "        if (window._pyforest_update_imports_cell) { window._pyforest_update_imports_cell('import pandas as pd\\nimport numpy as np'); }\n",
       "    "
      ],
      "text/plain": [
       "<IPython.core.display.Javascript object>"
      ]
     },
     "metadata": {},
     "output_type": "display_data"
    },
    {
     "data": {
      "application/javascript": [
       "\n",
       "        if (window._pyforest_update_imports_cell) { window._pyforest_update_imports_cell('import pandas as pd\\nimport numpy as np'); }\n",
       "    "
      ],
      "text/plain": [
       "<IPython.core.display.Javascript object>"
      ]
     },
     "metadata": {},
     "output_type": "display_data"
    },
    {
     "data": {
      "application/javascript": [
       "\n",
       "        if (window._pyforest_update_imports_cell) { window._pyforest_update_imports_cell('import pandas as pd\\nimport numpy as np'); }\n",
       "    "
      ],
      "text/plain": [
       "<IPython.core.display.Javascript object>"
      ]
     },
     "metadata": {},
     "output_type": "display_data"
    },
    {
     "data": {
      "application/javascript": [
       "\n",
       "        if (window._pyforest_update_imports_cell) { window._pyforest_update_imports_cell('import pandas as pd\\nimport numpy as np'); }\n",
       "    "
      ],
      "text/plain": [
       "<IPython.core.display.Javascript object>"
      ]
     },
     "metadata": {},
     "output_type": "display_data"
    },
    {
     "data": {
      "application/javascript": [
       "\n",
       "        if (window._pyforest_update_imports_cell) { window._pyforest_update_imports_cell('import pandas as pd\\nimport numpy as np'); }\n",
       "    "
      ],
      "text/plain": [
       "<IPython.core.display.Javascript object>"
      ]
     },
     "metadata": {},
     "output_type": "display_data"
    },
    {
     "data": {
      "application/javascript": [
       "\n",
       "        if (window._pyforest_update_imports_cell) { window._pyforest_update_imports_cell('import pandas as pd\\nimport numpy as np'); }\n",
       "    "
      ],
      "text/plain": [
       "<IPython.core.display.Javascript object>"
      ]
     },
     "metadata": {},
     "output_type": "display_data"
    },
    {
     "data": {
      "application/javascript": [
       "\n",
       "        if (window._pyforest_update_imports_cell) { window._pyforest_update_imports_cell('import pandas as pd\\nimport numpy as np'); }\n",
       "    "
      ],
      "text/plain": [
       "<IPython.core.display.Javascript object>"
      ]
     },
     "metadata": {},
     "output_type": "display_data"
    },
    {
     "data": {
      "application/javascript": [
       "\n",
       "        if (window._pyforest_update_imports_cell) { window._pyforest_update_imports_cell('import pandas as pd\\nimport numpy as np'); }\n",
       "    "
      ],
      "text/plain": [
       "<IPython.core.display.Javascript object>"
      ]
     },
     "metadata": {},
     "output_type": "display_data"
    },
    {
     "data": {
      "application/javascript": [
       "\n",
       "        if (window._pyforest_update_imports_cell) { window._pyforest_update_imports_cell('import pandas as pd\\nimport numpy as np'); }\n",
       "    "
      ],
      "text/plain": [
       "<IPython.core.display.Javascript object>"
      ]
     },
     "metadata": {},
     "output_type": "display_data"
    },
    {
     "data": {
      "application/javascript": [
       "\n",
       "        if (window._pyforest_update_imports_cell) { window._pyforest_update_imports_cell('import pandas as pd\\nimport numpy as np'); }\n",
       "    "
      ],
      "text/plain": [
       "<IPython.core.display.Javascript object>"
      ]
     },
     "metadata": {},
     "output_type": "display_data"
    },
    {
     "data": {
      "application/javascript": [
       "\n",
       "        if (window._pyforest_update_imports_cell) { window._pyforest_update_imports_cell('import pandas as pd\\nimport numpy as np'); }\n",
       "    "
      ],
      "text/plain": [
       "<IPython.core.display.Javascript object>"
      ]
     },
     "metadata": {},
     "output_type": "display_data"
    },
    {
     "data": {
      "application/javascript": [
       "\n",
       "        if (window._pyforest_update_imports_cell) { window._pyforest_update_imports_cell('import pandas as pd\\nimport numpy as np'); }\n",
       "    "
      ],
      "text/plain": [
       "<IPython.core.display.Javascript object>"
      ]
     },
     "metadata": {},
     "output_type": "display_data"
    },
    {
     "data": {
      "application/javascript": [
       "\n",
       "        if (window._pyforest_update_imports_cell) { window._pyforest_update_imports_cell('import pandas as pd\\nimport numpy as np'); }\n",
       "    "
      ],
      "text/plain": [
       "<IPython.core.display.Javascript object>"
      ]
     },
     "metadata": {},
     "output_type": "display_data"
    },
    {
     "data": {
      "application/javascript": [
       "\n",
       "        if (window._pyforest_update_imports_cell) { window._pyforest_update_imports_cell('import pandas as pd\\nimport numpy as np'); }\n",
       "    "
      ],
      "text/plain": [
       "<IPython.core.display.Javascript object>"
      ]
     },
     "metadata": {},
     "output_type": "display_data"
    },
    {
     "data": {
      "application/javascript": [
       "\n",
       "        if (window._pyforest_update_imports_cell) { window._pyforest_update_imports_cell('import pandas as pd\\nimport numpy as np'); }\n",
       "    "
      ],
      "text/plain": [
       "<IPython.core.display.Javascript object>"
      ]
     },
     "metadata": {},
     "output_type": "display_data"
    },
    {
     "data": {
      "application/javascript": [
       "\n",
       "        if (window._pyforest_update_imports_cell) { window._pyforest_update_imports_cell('import pandas as pd\\nimport numpy as np'); }\n",
       "    "
      ],
      "text/plain": [
       "<IPython.core.display.Javascript object>"
      ]
     },
     "metadata": {},
     "output_type": "display_data"
    },
    {
     "data": {
      "application/javascript": [
       "\n",
       "        if (window._pyforest_update_imports_cell) { window._pyforest_update_imports_cell('import pandas as pd\\nimport numpy as np'); }\n",
       "    "
      ],
      "text/plain": [
       "<IPython.core.display.Javascript object>"
      ]
     },
     "metadata": {},
     "output_type": "display_data"
    },
    {
     "data": {
      "application/javascript": [
       "\n",
       "        if (window._pyforest_update_imports_cell) { window._pyforest_update_imports_cell('import pandas as pd\\nimport numpy as np'); }\n",
       "    "
      ],
      "text/plain": [
       "<IPython.core.display.Javascript object>"
      ]
     },
     "metadata": {},
     "output_type": "display_data"
    },
    {
     "data": {
      "application/javascript": [
       "\n",
       "        if (window._pyforest_update_imports_cell) { window._pyforest_update_imports_cell('import pandas as pd\\nimport numpy as np'); }\n",
       "    "
      ],
      "text/plain": [
       "<IPython.core.display.Javascript object>"
      ]
     },
     "metadata": {},
     "output_type": "display_data"
    },
    {
     "data": {
      "application/javascript": [
       "\n",
       "        if (window._pyforest_update_imports_cell) { window._pyforest_update_imports_cell('import pandas as pd\\nimport numpy as np'); }\n",
       "    "
      ],
      "text/plain": [
       "<IPython.core.display.Javascript object>"
      ]
     },
     "metadata": {},
     "output_type": "display_data"
    },
    {
     "data": {
      "application/javascript": [
       "\n",
       "        if (window._pyforest_update_imports_cell) { window._pyforest_update_imports_cell('import pandas as pd\\nimport numpy as np'); }\n",
       "    "
      ],
      "text/plain": [
       "<IPython.core.display.Javascript object>"
      ]
     },
     "metadata": {},
     "output_type": "display_data"
    },
    {
     "data": {
      "application/javascript": [
       "\n",
       "        if (window._pyforest_update_imports_cell) { window._pyforest_update_imports_cell('import pandas as pd\\nimport numpy as np'); }\n",
       "    "
      ],
      "text/plain": [
       "<IPython.core.display.Javascript object>"
      ]
     },
     "metadata": {},
     "output_type": "display_data"
    },
    {
     "data": {
      "application/javascript": [
       "\n",
       "        if (window._pyforest_update_imports_cell) { window._pyforest_update_imports_cell('import pandas as pd\\nimport numpy as np'); }\n",
       "    "
      ],
      "text/plain": [
       "<IPython.core.display.Javascript object>"
      ]
     },
     "metadata": {},
     "output_type": "display_data"
    },
    {
     "data": {
      "application/javascript": [
       "\n",
       "        if (window._pyforest_update_imports_cell) { window._pyforest_update_imports_cell('import pandas as pd\\nimport numpy as np'); }\n",
       "    "
      ],
      "text/plain": [
       "<IPython.core.display.Javascript object>"
      ]
     },
     "metadata": {},
     "output_type": "display_data"
    },
    {
     "data": {
      "application/javascript": [
       "\n",
       "        if (window._pyforest_update_imports_cell) { window._pyforest_update_imports_cell('import pandas as pd\\nimport numpy as np'); }\n",
       "    "
      ],
      "text/plain": [
       "<IPython.core.display.Javascript object>"
      ]
     },
     "metadata": {},
     "output_type": "display_data"
    },
    {
     "data": {
      "application/javascript": [
       "\n",
       "        if (window._pyforest_update_imports_cell) { window._pyforest_update_imports_cell('import pandas as pd\\nimport numpy as np'); }\n",
       "    "
      ],
      "text/plain": [
       "<IPython.core.display.Javascript object>"
      ]
     },
     "metadata": {},
     "output_type": "display_data"
    },
    {
     "data": {
      "application/javascript": [
       "\n",
       "        if (window._pyforest_update_imports_cell) { window._pyforest_update_imports_cell('import pandas as pd\\nimport numpy as np'); }\n",
       "    "
      ],
      "text/plain": [
       "<IPython.core.display.Javascript object>"
      ]
     },
     "metadata": {},
     "output_type": "display_data"
    },
    {
     "data": {
      "application/javascript": [
       "\n",
       "        if (window._pyforest_update_imports_cell) { window._pyforest_update_imports_cell('import pandas as pd\\nimport numpy as np'); }\n",
       "    "
      ],
      "text/plain": [
       "<IPython.core.display.Javascript object>"
      ]
     },
     "metadata": {},
     "output_type": "display_data"
    },
    {
     "data": {
      "application/javascript": [
       "\n",
       "        if (window._pyforest_update_imports_cell) { window._pyforest_update_imports_cell('import pandas as pd\\nimport numpy as np'); }\n",
       "    "
      ],
      "text/plain": [
       "<IPython.core.display.Javascript object>"
      ]
     },
     "metadata": {},
     "output_type": "display_data"
    },
    {
     "data": {
      "application/javascript": [
       "\n",
       "        if (window._pyforest_update_imports_cell) { window._pyforest_update_imports_cell('import pandas as pd\\nimport numpy as np'); }\n",
       "    "
      ],
      "text/plain": [
       "<IPython.core.display.Javascript object>"
      ]
     },
     "metadata": {},
     "output_type": "display_data"
    },
    {
     "data": {
      "application/javascript": [
       "\n",
       "        if (window._pyforest_update_imports_cell) { window._pyforest_update_imports_cell('import pandas as pd\\nimport numpy as np'); }\n",
       "    "
      ],
      "text/plain": [
       "<IPython.core.display.Javascript object>"
      ]
     },
     "metadata": {},
     "output_type": "display_data"
    },
    {
     "data": {
      "application/javascript": [
       "\n",
       "        if (window._pyforest_update_imports_cell) { window._pyforest_update_imports_cell('import pandas as pd\\nimport numpy as np'); }\n",
       "    "
      ],
      "text/plain": [
       "<IPython.core.display.Javascript object>"
      ]
     },
     "metadata": {},
     "output_type": "display_data"
    },
    {
     "data": {
      "application/javascript": [
       "\n",
       "        if (window._pyforest_update_imports_cell) { window._pyforest_update_imports_cell('import pandas as pd\\nimport numpy as np'); }\n",
       "    "
      ],
      "text/plain": [
       "<IPython.core.display.Javascript object>"
      ]
     },
     "metadata": {},
     "output_type": "display_data"
    },
    {
     "data": {
      "application/javascript": [
       "\n",
       "        if (window._pyforest_update_imports_cell) { window._pyforest_update_imports_cell('import pandas as pd\\nimport numpy as np'); }\n",
       "    "
      ],
      "text/plain": [
       "<IPython.core.display.Javascript object>"
      ]
     },
     "metadata": {},
     "output_type": "display_data"
    },
    {
     "data": {
      "application/javascript": [
       "\n",
       "        if (window._pyforest_update_imports_cell) { window._pyforest_update_imports_cell('import pandas as pd\\nimport numpy as np'); }\n",
       "    "
      ],
      "text/plain": [
       "<IPython.core.display.Javascript object>"
      ]
     },
     "metadata": {},
     "output_type": "display_data"
    },
    {
     "data": {
      "application/javascript": [
       "\n",
       "        if (window._pyforest_update_imports_cell) { window._pyforest_update_imports_cell('import pandas as pd\\nimport numpy as np'); }\n",
       "    "
      ],
      "text/plain": [
       "<IPython.core.display.Javascript object>"
      ]
     },
     "metadata": {},
     "output_type": "display_data"
    },
    {
     "data": {
      "application/javascript": [
       "\n",
       "        if (window._pyforest_update_imports_cell) { window._pyforest_update_imports_cell('import pandas as pd\\nimport numpy as np'); }\n",
       "    "
      ],
      "text/plain": [
       "<IPython.core.display.Javascript object>"
      ]
     },
     "metadata": {},
     "output_type": "display_data"
    },
    {
     "data": {
      "application/javascript": [
       "\n",
       "        if (window._pyforest_update_imports_cell) { window._pyforest_update_imports_cell('import pandas as pd\\nimport numpy as np'); }\n",
       "    "
      ],
      "text/plain": [
       "<IPython.core.display.Javascript object>"
      ]
     },
     "metadata": {},
     "output_type": "display_data"
    },
    {
     "data": {
      "application/javascript": [
       "\n",
       "        if (window._pyforest_update_imports_cell) { window._pyforest_update_imports_cell('import pandas as pd\\nimport numpy as np'); }\n",
       "    "
      ],
      "text/plain": [
       "<IPython.core.display.Javascript object>"
      ]
     },
     "metadata": {},
     "output_type": "display_data"
    },
    {
     "data": {
      "application/javascript": [
       "\n",
       "        if (window._pyforest_update_imports_cell) { window._pyforest_update_imports_cell('import pandas as pd\\nimport numpy as np'); }\n",
       "    "
      ],
      "text/plain": [
       "<IPython.core.display.Javascript object>"
      ]
     },
     "metadata": {},
     "output_type": "display_data"
    },
    {
     "data": {
      "application/javascript": [
       "\n",
       "        if (window._pyforest_update_imports_cell) { window._pyforest_update_imports_cell('import pandas as pd\\nimport numpy as np'); }\n",
       "    "
      ],
      "text/plain": [
       "<IPython.core.display.Javascript object>"
      ]
     },
     "metadata": {},
     "output_type": "display_data"
    },
    {
     "data": {
      "application/javascript": [
       "\n",
       "        if (window._pyforest_update_imports_cell) { window._pyforest_update_imports_cell('import pandas as pd\\nimport numpy as np'); }\n",
       "    "
      ],
      "text/plain": [
       "<IPython.core.display.Javascript object>"
      ]
     },
     "metadata": {},
     "output_type": "display_data"
    },
    {
     "data": {
      "application/javascript": [
       "\n",
       "        if (window._pyforest_update_imports_cell) { window._pyforest_update_imports_cell('import pandas as pd\\nimport numpy as np'); }\n",
       "    "
      ],
      "text/plain": [
       "<IPython.core.display.Javascript object>"
      ]
     },
     "metadata": {},
     "output_type": "display_data"
    },
    {
     "data": {
      "application/javascript": [
       "\n",
       "        if (window._pyforest_update_imports_cell) { window._pyforest_update_imports_cell('import pandas as pd\\nimport numpy as np'); }\n",
       "    "
      ],
      "text/plain": [
       "<IPython.core.display.Javascript object>"
      ]
     },
     "metadata": {},
     "output_type": "display_data"
    },
    {
     "data": {
      "application/javascript": [
       "\n",
       "        if (window._pyforest_update_imports_cell) { window._pyforest_update_imports_cell('import pandas as pd\\nimport numpy as np'); }\n",
       "    "
      ],
      "text/plain": [
       "<IPython.core.display.Javascript object>"
      ]
     },
     "metadata": {},
     "output_type": "display_data"
    },
    {
     "data": {
      "application/javascript": [
       "\n",
       "        if (window._pyforest_update_imports_cell) { window._pyforest_update_imports_cell('import pandas as pd\\nimport numpy as np'); }\n",
       "    "
      ],
      "text/plain": [
       "<IPython.core.display.Javascript object>"
      ]
     },
     "metadata": {},
     "output_type": "display_data"
    },
    {
     "data": {
      "application/javascript": [
       "\n",
       "        if (window._pyforest_update_imports_cell) { window._pyforest_update_imports_cell('import pandas as pd\\nimport numpy as np'); }\n",
       "    "
      ],
      "text/plain": [
       "<IPython.core.display.Javascript object>"
      ]
     },
     "metadata": {},
     "output_type": "display_data"
    },
    {
     "data": {
      "application/javascript": [
       "\n",
       "        if (window._pyforest_update_imports_cell) { window._pyforest_update_imports_cell('import pandas as pd\\nimport numpy as np'); }\n",
       "    "
      ],
      "text/plain": [
       "<IPython.core.display.Javascript object>"
      ]
     },
     "metadata": {},
     "output_type": "display_data"
    },
    {
     "data": {
      "application/javascript": [
       "\n",
       "        if (window._pyforest_update_imports_cell) { window._pyforest_update_imports_cell('import pandas as pd\\nimport numpy as np'); }\n",
       "    "
      ],
      "text/plain": [
       "<IPython.core.display.Javascript object>"
      ]
     },
     "metadata": {},
     "output_type": "display_data"
    },
    {
     "data": {
      "text/html": [
       "<div>\n",
       "<style scoped>\n",
       "    .dataframe tbody tr th:only-of-type {\n",
       "        vertical-align: middle;\n",
       "    }\n",
       "\n",
       "    .dataframe tbody tr th {\n",
       "        vertical-align: top;\n",
       "    }\n",
       "\n",
       "    .dataframe thead th {\n",
       "        text-align: right;\n",
       "    }\n",
       "</style>\n",
       "<table border=\"1\" class=\"dataframe\">\n",
       "  <thead>\n",
       "    <tr style=\"text-align: right;\">\n",
       "      <th></th>\n",
       "      <th>address</th>\n",
       "      <th>name</th>\n",
       "      <th>online_order</th>\n",
       "      <th>book_table</th>\n",
       "      <th>rate</th>\n",
       "      <th>votes</th>\n",
       "      <th>location</th>\n",
       "      <th>rest_type</th>\n",
       "      <th>dish_liked</th>\n",
       "      <th>cuisines</th>\n",
       "      <th>approx_cost(for two people)</th>\n",
       "      <th>list_review_rate</th>\n",
       "      <th>reviews</th>\n",
       "      <th>no_of_cuisines</th>\n",
       "      <th>dish_liked_org</th>\n",
       "      <th>final_rate</th>\n",
       "      <th>lat</th>\n",
       "      <th>long</th>\n",
       "      <th>man_dist</th>\n",
       "      <th>loc_dist_km</th>\n",
       "    </tr>\n",
       "  </thead>\n",
       "  <tbody>\n",
       "    <tr>\n",
       "      <th>4019</th>\n",
       "      <td>16th Main Road, BTM, Bangalore</td>\n",
       "      <td>So-Fat's Dosas</td>\n",
       "      <td>0</td>\n",
       "      <td>0</td>\n",
       "      <td>3.8</td>\n",
       "      <td>43</td>\n",
       "      <td>BTM</td>\n",
       "      <td>Quick Bites</td>\n",
       "      <td>[dosa]</td>\n",
       "      <td>[south indian]</td>\n",
       "      <td>100</td>\n",
       "      <td>[3.0, 4.0, 4.0, 5.0, 3.0, 4.0, 5.0, 5.0, 4.0, ...</td>\n",
       "      <td>amazing collection dosas wonder see much varie...</td>\n",
       "      <td>1</td>\n",
       "      <td>[Bhaji Dosa]</td>\n",
       "      <td>4.6</td>\n",
       "      <td>12.911275849999999</td>\n",
       "      <td>77.60456543431182</td>\n",
       "      <td>0.040140</td>\n",
       "      <td>3.124718</td>\n",
       "    </tr>\n",
       "    <tr>\n",
       "      <th>175</th>\n",
       "      <td>Next To BMTC Bus Stand, Banashankari, Bangalore</td>\n",
       "      <td>Srikrishna Bhavan</td>\n",
       "      <td>1</td>\n",
       "      <td>0</td>\n",
       "      <td>3.8</td>\n",
       "      <td>42</td>\n",
       "      <td>Banashankari</td>\n",
       "      <td>Quick Bites</td>\n",
       "      <td>[roti, dosa]</td>\n",
       "      <td>[south indian, north indian, chinese]</td>\n",
       "      <td>150</td>\n",
       "      <td>[5.0]</td>\n",
       "      <td>sri krishna bhavan best hotel bangalore situat...</td>\n",
       "      <td>3</td>\n",
       "      <td>[Roti, Masala Dosa]</td>\n",
       "      <td>4.4</td>\n",
       "      <td>12.965283249999999</td>\n",
       "      <td>77.59445195</td>\n",
       "      <td>0.048039</td>\n",
       "      <td>4.210993</td>\n",
       "    </tr>\n",
       "    <tr>\n",
       "      <th>3468</th>\n",
       "      <td>77, Near Ayyappa Temple, Hosur Main Road, Madi...</td>\n",
       "      <td>Krishna Sagar</td>\n",
       "      <td>1</td>\n",
       "      <td>0</td>\n",
       "      <td>3.9</td>\n",
       "      <td>52</td>\n",
       "      <td>BTM</td>\n",
       "      <td>Quick Bites</td>\n",
       "      <td>[dosa]</td>\n",
       "      <td>[south indian, north indian, chinese]</td>\n",
       "      <td>150</td>\n",
       "      <td>[5.0, 4.0]</td>\n",
       "      <td>good taste many times like poori kurna idly sa...</td>\n",
       "      <td>3</td>\n",
       "      <td>[Masala Dosa]</td>\n",
       "      <td>4.2</td>\n",
       "      <td>12.911275849999999</td>\n",
       "      <td>77.60456543431182</td>\n",
       "      <td>0.040140</td>\n",
       "      <td>3.124718</td>\n",
       "    </tr>\n",
       "    <tr>\n",
       "      <th>273</th>\n",
       "      <td>Near Reliance Trends, 1st Cross, 3rd Phase, Ba...</td>\n",
       "      <td>Sri Sai 99 Variety Dosa</td>\n",
       "      <td>1</td>\n",
       "      <td>0</td>\n",
       "      <td>3.8</td>\n",
       "      <td>25</td>\n",
       "      <td>Banashankari</td>\n",
       "      <td>Quick Bites</td>\n",
       "      <td>[dosa, dosa, dosa, dosa, dosa]</td>\n",
       "      <td>[south indian]</td>\n",
       "      <td>150</td>\n",
       "      <td>[4.0, 5.0, 5.0, 4.0]</td>\n",
       "      <td>sweet corn schezwan dosa golmaal dosa yesterda...</td>\n",
       "      <td>1</td>\n",
       "      <td>[Sweet Corn Mushroom Schezwan Paneer Dosa, Pan...</td>\n",
       "      <td>4.2</td>\n",
       "      <td>12.965283249999999</td>\n",
       "      <td>77.59445195</td>\n",
       "      <td>0.048039</td>\n",
       "      <td>4.210993</td>\n",
       "    </tr>\n",
       "    <tr>\n",
       "      <th>4110</th>\n",
       "      <td>148/2, 20th Main Road, 2nd Cross, 1st Stage</td>\n",
       "      <td>Sagar Fast Food</td>\n",
       "      <td>1</td>\n",
       "      <td>0</td>\n",
       "      <td>3.7</td>\n",
       "      <td>66</td>\n",
       "      <td>BTM</td>\n",
       "      <td>Quick Bites</td>\n",
       "      <td>[idli, dosa]</td>\n",
       "      <td>[south indian, chinese, north indian]</td>\n",
       "      <td>150</td>\n",
       "      <td>[5.0, 4.0]</td>\n",
       "      <td>one best place eat breakfast masala dosa idli ...</td>\n",
       "      <td>3</td>\n",
       "      <td>[Idli, Masala Dosa]</td>\n",
       "      <td>4.1</td>\n",
       "      <td>12.911275849999999</td>\n",
       "      <td>77.60456543431182</td>\n",
       "      <td>0.040140</td>\n",
       "      <td>3.124718</td>\n",
       "    </tr>\n",
       "    <tr>\n",
       "      <th>5679</th>\n",
       "      <td>140, Dayanand Sagar College Road, Colony, 99 S...</td>\n",
       "      <td>Sri Devi Sagar</td>\n",
       "      <td>0</td>\n",
       "      <td>0</td>\n",
       "      <td>4.5</td>\n",
       "      <td>0</td>\n",
       "      <td>Kumaraswamy Layout</td>\n",
       "      <td>Quick Bites</td>\n",
       "      <td>[dosa]</td>\n",
       "      <td>[south indian]</td>\n",
       "      <td>50</td>\n",
       "      <td>[4.0]</td>\n",
       "      <td>idli wada sambhar must try placen parcel thick...</td>\n",
       "      <td>1</td>\n",
       "      <td>[Masala Dosa]</td>\n",
       "      <td>4.0</td>\n",
       "      <td>12.9081487</td>\n",
       "      <td>77.5553179</td>\n",
       "      <td>0.048229</td>\n",
       "      <td>3.761282</td>\n",
       "    </tr>\n",
       "    <tr>\n",
       "      <th>3447</th>\n",
       "      <td>314/B, 20th Main, 80 Feet Road, 8th Block, Opp...</td>\n",
       "      <td>Sagar Fast Food</td>\n",
       "      <td>1</td>\n",
       "      <td>0</td>\n",
       "      <td>4.0</td>\n",
       "      <td>137</td>\n",
       "      <td>Koramangala 8th Block</td>\n",
       "      <td>Quick Bites</td>\n",
       "      <td>[dosa]</td>\n",
       "      <td>[south indian, north indian, fast food, chinese]</td>\n",
       "      <td>125</td>\n",
       "      <td>[4.0]</td>\n",
       "      <td>sagar fast food one best mangalorean restauran...</td>\n",
       "      <td>4</td>\n",
       "      <td>[Neer Dosa]</td>\n",
       "      <td>4.0</td>\n",
       "      <td>12.9417812</td>\n",
       "      <td>77.6160146</td>\n",
       "      <td>0.046100</td>\n",
       "      <td>3.897076</td>\n",
       "    </tr>\n",
       "    <tr>\n",
       "      <th>6262</th>\n",
       "      <td>6th Block, Sony World Signal, Koramangala 6th ...</td>\n",
       "      <td>99 Variety Dosa &amp; Pav Bhaji</td>\n",
       "      <td>1</td>\n",
       "      <td>0</td>\n",
       "      <td>3.8</td>\n",
       "      <td>16</td>\n",
       "      <td>Koramangala 6th Block</td>\n",
       "      <td>Quick Bites</td>\n",
       "      <td>[dosa, dosa, dosa, dosa, dosa]</td>\n",
       "      <td>[south indian, north indian, fast food]</td>\n",
       "      <td>125</td>\n",
       "      <td>[4.0, 4.0, 4.0]</td>\n",
       "      <td>love customised dosas place offers lot variety...</td>\n",
       "      <td>3</td>\n",
       "      <td>[Green Peas Cheese Masala Dosa, Gobi Masala Do...</td>\n",
       "      <td>3.9</td>\n",
       "      <td>12.93075555</td>\n",
       "      <td>77.62265777504285</td>\n",
       "      <td>0.041717</td>\n",
       "      <td>4.363589</td>\n",
       "    </tr>\n",
       "    <tr>\n",
       "      <th>1157</th>\n",
       "      <td>Big Bazar Compound, Opposite Central Mall, 9th...</td>\n",
       "      <td>Sri Sai 99 Variety Dosa</td>\n",
       "      <td>1</td>\n",
       "      <td>0</td>\n",
       "      <td>3.6</td>\n",
       "      <td>37</td>\n",
       "      <td>Jayanagar</td>\n",
       "      <td>Quick Bites</td>\n",
       "      <td>[dosa, dosa, dosa, dosa, dosa]</td>\n",
       "      <td>[south indian]</td>\n",
       "      <td>150</td>\n",
       "      <td>[5.0, 3.0]</td>\n",
       "      <td>small thela opposite central mall jayanagar au...</td>\n",
       "      <td>1</td>\n",
       "      <td>[Onion Masala Dosa, Paneer Sada Dosa, Sweet Co...</td>\n",
       "      <td>3.8</td>\n",
       "      <td>12.9292731</td>\n",
       "      <td>77.5824229</td>\n",
       "      <td>0.000000</td>\n",
       "      <td>0.000000</td>\n",
       "    </tr>\n",
       "    <tr>\n",
       "      <th>3474</th>\n",
       "      <td>Makana Tower, Tavarekere Main Road</td>\n",
       "      <td>Ashirvaad Grand</td>\n",
       "      <td>1</td>\n",
       "      <td>0</td>\n",
       "      <td>4.0</td>\n",
       "      <td>113</td>\n",
       "      <td>BTM</td>\n",
       "      <td>Quick Bites</td>\n",
       "      <td>[dosa, paneer butter masala]</td>\n",
       "      <td>[chinese, north indian, south indian]</td>\n",
       "      <td>200</td>\n",
       "      <td>[5.0, 1.0, 4.0, 4.0]</td>\n",
       "      <td>quick delivery food qualitatively done food  t...</td>\n",
       "      <td>3</td>\n",
       "      <td>[Masala Dosa, Panneer Butter Masala]</td>\n",
       "      <td>3.8</td>\n",
       "      <td>12.911275849999999</td>\n",
       "      <td>77.60456543431182</td>\n",
       "      <td>0.040140</td>\n",
       "      <td>3.124718</td>\n",
       "    </tr>\n",
       "    <tr>\n",
       "      <th>215</th>\n",
       "      <td>23, 7th Main, KSRTC Layout, Chikkalsandra, Mai...</td>\n",
       "      <td>South Grand</td>\n",
       "      <td>1</td>\n",
       "      <td>0</td>\n",
       "      <td>3.4</td>\n",
       "      <td>102</td>\n",
       "      <td>Uttarahalli</td>\n",
       "      <td>Casual Dining</td>\n",
       "      <td>[dosa]</td>\n",
       "      <td>[south indian, north indian, chinese, beverages]</td>\n",
       "      <td>200</td>\n",
       "      <td>[4.0, 5.0, 4.0]</td>\n",
       "      <td>north south indian restaurantwhere uttarahalli...</td>\n",
       "      <td>4</td>\n",
       "      <td>[Rava Dosa]</td>\n",
       "      <td>3.7</td>\n",
       "      <td>12.9055682</td>\n",
       "      <td>77.5455438</td>\n",
       "      <td>0.060584</td>\n",
       "      <td>4.787873</td>\n",
       "    </tr>\n",
       "    <tr>\n",
       "      <th>3552</th>\n",
       "      <td>40, 2nd Cross, Tavarekere Main Road, Adugodi, ...</td>\n",
       "      <td>Public Khana</td>\n",
       "      <td>1</td>\n",
       "      <td>0</td>\n",
       "      <td>3.5</td>\n",
       "      <td>17</td>\n",
       "      <td>BTM</td>\n",
       "      <td>Quick Bites</td>\n",
       "      <td>[parata, parata, dosa, dosa, parata]</td>\n",
       "      <td>[south indian, north indian]</td>\n",
       "      <td>100</td>\n",
       "      <td>[5.0, 1.0, 1.0, 5.0, 5.0, 5.0]</td>\n",
       "      <td>parathas best prices reasonable bhaji good pav...</td>\n",
       "      <td>2</td>\n",
       "      <td>[Aloo Paratha, Palak and Gobhi Paratha Combo, ...</td>\n",
       "      <td>3.6</td>\n",
       "      <td>12.911275849999999</td>\n",
       "      <td>77.60456543431182</td>\n",
       "      <td>0.040140</td>\n",
       "      <td>3.124718</td>\n",
       "    </tr>\n",
       "    <tr>\n",
       "      <th>90</th>\n",
       "      <td>No.1585, 22nd Main,Banashankari 1st Stage</td>\n",
       "      <td>Udupi Upahar</td>\n",
       "      <td>1</td>\n",
       "      <td>0</td>\n",
       "      <td>3.8</td>\n",
       "      <td>58</td>\n",
       "      <td>Banashankari</td>\n",
       "      <td>Quick Bites</td>\n",
       "      <td>[dosa, dosa, dosa, dosa, idli]</td>\n",
       "      <td>[south indian, chinese, north indian, beverages]</td>\n",
       "      <td>150</td>\n",
       "      <td>[1.0, 1.0, 5.0, 4.0, 2.0, 2.0, 5.0, 1.0, 4.0, ...</td>\n",
       "      <td>food good noodles smelling like prepared  days...</td>\n",
       "      <td>4</td>\n",
       "      <td>[Butter Plain Dosa, Butter Masala Dosa, Pepper...</td>\n",
       "      <td>3.5</td>\n",
       "      <td>12.965283249999999</td>\n",
       "      <td>77.59445195</td>\n",
       "      <td>0.048039</td>\n",
       "      <td>4.210993</td>\n",
       "    </tr>\n",
       "    <tr>\n",
       "      <th>367</th>\n",
       "      <td>200, Next to Canara Bank, KG Road, Gandhi Baza...</td>\n",
       "      <td>A2B Veg - Adyar Ananda Bhavan</td>\n",
       "      <td>1</td>\n",
       "      <td>0</td>\n",
       "      <td>2.7</td>\n",
       "      <td>97</td>\n",
       "      <td>Basavanagudi</td>\n",
       "      <td>Casual Dining</td>\n",
       "      <td>[dosa]</td>\n",
       "      <td>[south indian, north indian, chinese, fast food]</td>\n",
       "      <td>200</td>\n",
       "      <td>[3.0, 5.0]</td>\n",
       "      <td>pongal favourite place south indian breakfasts...</td>\n",
       "      <td>4</td>\n",
       "      <td>[Masala Dosa]</td>\n",
       "      <td>3.4</td>\n",
       "      <td>12.9417261</td>\n",
       "      <td>77.5755021</td>\n",
       "      <td>0.019374</td>\n",
       "      <td>1.574791</td>\n",
       "    </tr>\n",
       "    <tr>\n",
       "      <th>3460</th>\n",
       "      <td>14, 29th Main, 100 Feet Road, 1st Stage, BTM, ...</td>\n",
       "      <td>Sri Vishnu Park</td>\n",
       "      <td>1</td>\n",
       "      <td>0</td>\n",
       "      <td>3.8</td>\n",
       "      <td>99</td>\n",
       "      <td>BTM</td>\n",
       "      <td>Casual Dining</td>\n",
       "      <td>[dosa]</td>\n",
       "      <td>[south indian, north indian, chinese]</td>\n",
       "      <td>175</td>\n",
       "      <td>[3.0]</td>\n",
       "      <td>another joint serving south indian food idea v...</td>\n",
       "      <td>3</td>\n",
       "      <td>[Masala Dosa]</td>\n",
       "      <td>3.4</td>\n",
       "      <td>12.911275849999999</td>\n",
       "      <td>77.60456543431182</td>\n",
       "      <td>0.040140</td>\n",
       "      <td>3.124718</td>\n",
       "    </tr>\n",
       "    <tr>\n",
       "      <th>209</th>\n",
       "      <td>Shubashree Complex, 50 Feet Road, 1st Stage, H...</td>\n",
       "      <td>Matru Sagar</td>\n",
       "      <td>1</td>\n",
       "      <td>0</td>\n",
       "      <td>3.6</td>\n",
       "      <td>84</td>\n",
       "      <td>Banashankari</td>\n",
       "      <td>Quick Bites</td>\n",
       "      <td>[coffee, dosa]</td>\n",
       "      <td>[south indian, north indian, chinese]</td>\n",
       "      <td>125</td>\n",
       "      <td>[3.0, 1.0, 3.0, 3.0, 4.0, 2.0, 3.0, 3.0, 4.0, ...</td>\n",
       "      <td>good reasonable food pricing masala dosa coffe...</td>\n",
       "      <td>3</td>\n",
       "      <td>[Coffee, Masala Dosa]</td>\n",
       "      <td>3.4</td>\n",
       "      <td>12.965283249999999</td>\n",
       "      <td>77.59445195</td>\n",
       "      <td>0.048039</td>\n",
       "      <td>4.210993</td>\n",
       "    </tr>\n",
       "    <tr>\n",
       "      <th>193</th>\n",
       "      <td>8/10, Subramanyapura Main Road, Near Royal Mar...</td>\n",
       "      <td>Shree Mandarathi Grand</td>\n",
       "      <td>1</td>\n",
       "      <td>0</td>\n",
       "      <td>3.7</td>\n",
       "      <td>38</td>\n",
       "      <td>Uttarahalli</td>\n",
       "      <td>Casual Dining</td>\n",
       "      <td>[dosa, dosa, idli, dosa, dosa]</td>\n",
       "      <td>[south indian, north indian]</td>\n",
       "      <td>200</td>\n",
       "      <td>[3.0]</td>\n",
       "      <td>ordered food multiple occasions found taste so...</td>\n",
       "      <td>2</td>\n",
       "      <td>[Rava Masala Dosa, Special Dosa, Idli  2 Piece...</td>\n",
       "      <td>3.4</td>\n",
       "      <td>12.9055682</td>\n",
       "      <td>77.5455438</td>\n",
       "      <td>0.060584</td>\n",
       "      <td>4.787873</td>\n",
       "    </tr>\n",
       "  </tbody>\n",
       "</table>\n",
       "</div>"
      ],
      "text/plain": [
       "                                                address  \\\n",
       "4019                     16th Main Road, BTM, Bangalore   \n",
       "175     Next To BMTC Bus Stand, Banashankari, Bangalore   \n",
       "3468  77, Near Ayyappa Temple, Hosur Main Road, Madi...   \n",
       "273   Near Reliance Trends, 1st Cross, 3rd Phase, Ba...   \n",
       "4110        148/2, 20th Main Road, 2nd Cross, 1st Stage   \n",
       "5679  140, Dayanand Sagar College Road, Colony, 99 S...   \n",
       "3447  314/B, 20th Main, 80 Feet Road, 8th Block, Opp...   \n",
       "6262  6th Block, Sony World Signal, Koramangala 6th ...   \n",
       "1157  Big Bazar Compound, Opposite Central Mall, 9th...   \n",
       "3474                 Makana Tower, Tavarekere Main Road   \n",
       "215   23, 7th Main, KSRTC Layout, Chikkalsandra, Mai...   \n",
       "3552  40, 2nd Cross, Tavarekere Main Road, Adugodi, ...   \n",
       "90            No.1585, 22nd Main,Banashankari 1st Stage   \n",
       "367   200, Next to Canara Bank, KG Road, Gandhi Baza...   \n",
       "3460  14, 29th Main, 100 Feet Road, 1st Stage, BTM, ...   \n",
       "209   Shubashree Complex, 50 Feet Road, 1st Stage, H...   \n",
       "193   8/10, Subramanyapura Main Road, Near Royal Mar...   \n",
       "\n",
       "                               name online_order book_table  rate votes  \\\n",
       "4019                 So-Fat's Dosas            0          0   3.8    43   \n",
       "175               Srikrishna Bhavan            1          0   3.8    42   \n",
       "3468                  Krishna Sagar            1          0   3.9    52   \n",
       "273         Sri Sai 99 Variety Dosa            1          0   3.8    25   \n",
       "4110                Sagar Fast Food            1          0   3.7    66   \n",
       "5679                 Sri Devi Sagar            0          0   4.5     0   \n",
       "3447                Sagar Fast Food            1          0   4.0   137   \n",
       "6262    99 Variety Dosa & Pav Bhaji            1          0   3.8    16   \n",
       "1157        Sri Sai 99 Variety Dosa            1          0   3.6    37   \n",
       "3474                Ashirvaad Grand            1          0   4.0   113   \n",
       "215                     South Grand            1          0   3.4   102   \n",
       "3552                   Public Khana            1          0   3.5    17   \n",
       "90                     Udupi Upahar            1          0   3.8    58   \n",
       "367   A2B Veg - Adyar Ananda Bhavan            1          0   2.7    97   \n",
       "3460                Sri Vishnu Park            1          0   3.8    99   \n",
       "209                     Matru Sagar            1          0   3.6    84   \n",
       "193          Shree Mandarathi Grand            1          0   3.7    38   \n",
       "\n",
       "                   location      rest_type  \\\n",
       "4019                    BTM    Quick Bites   \n",
       "175            Banashankari    Quick Bites   \n",
       "3468                    BTM    Quick Bites   \n",
       "273            Banashankari    Quick Bites   \n",
       "4110                    BTM    Quick Bites   \n",
       "5679     Kumaraswamy Layout    Quick Bites   \n",
       "3447  Koramangala 8th Block    Quick Bites   \n",
       "6262  Koramangala 6th Block    Quick Bites   \n",
       "1157              Jayanagar    Quick Bites   \n",
       "3474                    BTM    Quick Bites   \n",
       "215             Uttarahalli  Casual Dining   \n",
       "3552                    BTM    Quick Bites   \n",
       "90             Banashankari    Quick Bites   \n",
       "367            Basavanagudi  Casual Dining   \n",
       "3460                    BTM  Casual Dining   \n",
       "209            Banashankari    Quick Bites   \n",
       "193             Uttarahalli  Casual Dining   \n",
       "\n",
       "                                dish_liked  \\\n",
       "4019                                [dosa]   \n",
       "175                           [roti, dosa]   \n",
       "3468                                [dosa]   \n",
       "273         [dosa, dosa, dosa, dosa, dosa]   \n",
       "4110                          [idli, dosa]   \n",
       "5679                                [dosa]   \n",
       "3447                                [dosa]   \n",
       "6262        [dosa, dosa, dosa, dosa, dosa]   \n",
       "1157        [dosa, dosa, dosa, dosa, dosa]   \n",
       "3474          [dosa, paneer butter masala]   \n",
       "215                                 [dosa]   \n",
       "3552  [parata, parata, dosa, dosa, parata]   \n",
       "90          [dosa, dosa, dosa, dosa, idli]   \n",
       "367                                 [dosa]   \n",
       "3460                                [dosa]   \n",
       "209                         [coffee, dosa]   \n",
       "193         [dosa, dosa, idli, dosa, dosa]   \n",
       "\n",
       "                                              cuisines  \\\n",
       "4019                                    [south indian]   \n",
       "175              [south indian, north indian, chinese]   \n",
       "3468             [south indian, north indian, chinese]   \n",
       "273                                     [south indian]   \n",
       "4110             [south indian, chinese, north indian]   \n",
       "5679                                    [south indian]   \n",
       "3447  [south indian, north indian, fast food, chinese]   \n",
       "6262           [south indian, north indian, fast food]   \n",
       "1157                                    [south indian]   \n",
       "3474             [chinese, north indian, south indian]   \n",
       "215   [south indian, north indian, chinese, beverages]   \n",
       "3552                      [south indian, north indian]   \n",
       "90    [south indian, chinese, north indian, beverages]   \n",
       "367   [south indian, north indian, chinese, fast food]   \n",
       "3460             [south indian, north indian, chinese]   \n",
       "209              [south indian, north indian, chinese]   \n",
       "193                       [south indian, north indian]   \n",
       "\n",
       "     approx_cost(for two people)  \\\n",
       "4019                         100   \n",
       "175                          150   \n",
       "3468                         150   \n",
       "273                          150   \n",
       "4110                         150   \n",
       "5679                          50   \n",
       "3447                         125   \n",
       "6262                         125   \n",
       "1157                         150   \n",
       "3474                         200   \n",
       "215                          200   \n",
       "3552                         100   \n",
       "90                           150   \n",
       "367                          200   \n",
       "3460                         175   \n",
       "209                          125   \n",
       "193                          200   \n",
       "\n",
       "                                       list_review_rate  \\\n",
       "4019  [3.0, 4.0, 4.0, 5.0, 3.0, 4.0, 5.0, 5.0, 4.0, ...   \n",
       "175                                               [5.0]   \n",
       "3468                                         [5.0, 4.0]   \n",
       "273                                [4.0, 5.0, 5.0, 4.0]   \n",
       "4110                                         [5.0, 4.0]   \n",
       "5679                                              [4.0]   \n",
       "3447                                              [4.0]   \n",
       "6262                                    [4.0, 4.0, 4.0]   \n",
       "1157                                         [5.0, 3.0]   \n",
       "3474                               [5.0, 1.0, 4.0, 4.0]   \n",
       "215                                     [4.0, 5.0, 4.0]   \n",
       "3552                     [5.0, 1.0, 1.0, 5.0, 5.0, 5.0]   \n",
       "90    [1.0, 1.0, 5.0, 4.0, 2.0, 2.0, 5.0, 1.0, 4.0, ...   \n",
       "367                                          [3.0, 5.0]   \n",
       "3460                                              [3.0]   \n",
       "209   [3.0, 1.0, 3.0, 3.0, 4.0, 2.0, 3.0, 3.0, 4.0, ...   \n",
       "193                                               [3.0]   \n",
       "\n",
       "                                                reviews no_of_cuisines  \\\n",
       "4019  amazing collection dosas wonder see much varie...              1   \n",
       "175   sri krishna bhavan best hotel bangalore situat...              3   \n",
       "3468  good taste many times like poori kurna idly sa...              3   \n",
       "273   sweet corn schezwan dosa golmaal dosa yesterda...              1   \n",
       "4110  one best place eat breakfast masala dosa idli ...              3   \n",
       "5679  idli wada sambhar must try placen parcel thick...              1   \n",
       "3447  sagar fast food one best mangalorean restauran...              4   \n",
       "6262  love customised dosas place offers lot variety...              3   \n",
       "1157  small thela opposite central mall jayanagar au...              1   \n",
       "3474  quick delivery food qualitatively done food  t...              3   \n",
       "215   north south indian restaurantwhere uttarahalli...              4   \n",
       "3552  parathas best prices reasonable bhaji good pav...              2   \n",
       "90    food good noodles smelling like prepared  days...              4   \n",
       "367   pongal favourite place south indian breakfasts...              4   \n",
       "3460  another joint serving south indian food idea v...              3   \n",
       "209   good reasonable food pricing masala dosa coffe...              3   \n",
       "193   ordered food multiple occasions found taste so...              2   \n",
       "\n",
       "                                         dish_liked_org  final_rate  \\\n",
       "4019                                       [Bhaji Dosa]         4.6   \n",
       "175                                 [Roti, Masala Dosa]         4.4   \n",
       "3468                                      [Masala Dosa]         4.2   \n",
       "273   [Sweet Corn Mushroom Schezwan Paneer Dosa, Pan...         4.2   \n",
       "4110                                [Idli, Masala Dosa]         4.1   \n",
       "5679                                      [Masala Dosa]         4.0   \n",
       "3447                                        [Neer Dosa]         4.0   \n",
       "6262  [Green Peas Cheese Masala Dosa, Gobi Masala Do...         3.9   \n",
       "1157  [Onion Masala Dosa, Paneer Sada Dosa, Sweet Co...         3.8   \n",
       "3474               [Masala Dosa, Panneer Butter Masala]         3.8   \n",
       "215                                         [Rava Dosa]         3.7   \n",
       "3552  [Aloo Paratha, Palak and Gobhi Paratha Combo, ...         3.6   \n",
       "90    [Butter Plain Dosa, Butter Masala Dosa, Pepper...         3.5   \n",
       "367                                       [Masala Dosa]         3.4   \n",
       "3460                                      [Masala Dosa]         3.4   \n",
       "209                               [Coffee, Masala Dosa]         3.4   \n",
       "193   [Rava Masala Dosa, Special Dosa, Idli  2 Piece...         3.4   \n",
       "\n",
       "                     lat               long  man_dist  loc_dist_km  \n",
       "4019  12.911275849999999  77.60456543431182  0.040140     3.124718  \n",
       "175   12.965283249999999        77.59445195  0.048039     4.210993  \n",
       "3468  12.911275849999999  77.60456543431182  0.040140     3.124718  \n",
       "273   12.965283249999999        77.59445195  0.048039     4.210993  \n",
       "4110  12.911275849999999  77.60456543431182  0.040140     3.124718  \n",
       "5679          12.9081487         77.5553179  0.048229     3.761282  \n",
       "3447          12.9417812         77.6160146  0.046100     3.897076  \n",
       "6262         12.93075555  77.62265777504285  0.041717     4.363589  \n",
       "1157          12.9292731         77.5824229  0.000000     0.000000  \n",
       "3474  12.911275849999999  77.60456543431182  0.040140     3.124718  \n",
       "215           12.9055682         77.5455438  0.060584     4.787873  \n",
       "3552  12.911275849999999  77.60456543431182  0.040140     3.124718  \n",
       "90    12.965283249999999        77.59445195  0.048039     4.210993  \n",
       "367           12.9417261         77.5755021  0.019374     1.574791  \n",
       "3460  12.911275849999999  77.60456543431182  0.040140     3.124718  \n",
       "209   12.965283249999999        77.59445195  0.048039     4.210993  \n",
       "193           12.9055682         77.5455438  0.060584     4.787873  "
      ]
     },
     "execution_count": 28,
     "metadata": {},
     "output_type": "execute_result"
    }
   ],
   "source": [
    "import datetime as dt\n",
    "user=pd.read_csv(\"user1_final.csv\")\n",
    "rest_id = list(user.Restaurant_Id)\n",
    "user[\"Time\"]=pd.to_datetime((user['Time']))\n",
    "t=dt.time(10,30)\n",
    "lat=12.9292731\n",
    "long=77.5824229\n",
    "final_rec,timing = rec_user(user,t,lat,long,df)\n",
    "for i in final_rec.index:\n",
    "    if i in rest_id:\n",
    "        final_rec = final_rec.drop(i)\n",
    "final_rec"
   ]
  },
  {
   "cell_type": "markdown",
   "metadata": {},
   "source": [
    "### Evaluation Metrics"
   ]
  },
  {
   "cell_type": "code",
   "execution_count": 29,
   "metadata": {},
   "outputs": [
    {
     "name": "stdout",
     "output_type": "stream",
     "text": [
      "[[1.         0.70710678 1.         1.         0.70710678 1.\n",
      "  1.         1.         1.         0.70710678 1.         0.5547002\n",
      "  0.9701425  1.         1.         0.70710678 0.9701425 ]\n",
      " [0.83205029 0.58834841 0.83205029 0.83205029 0.58834841 0.83205029\n",
      "  0.83205029 0.83205029 0.83205029 0.58834841 0.83205029 0.46153846\n",
      "  0.80720735 0.83205029 0.83205029 0.78446454 0.80720735]\n",
      " [0.66666667 0.47140452 0.66666667 0.66666667 0.70710678 0.66666667\n",
      "  0.66666667 0.66666667 0.66666667 0.47140452 0.66666667 0.36980013\n",
      "  0.72760688 0.66666667 0.66666667 0.70710678 0.72760688]\n",
      " [1.         0.70710678 1.         1.         0.70710678 1.\n",
      "  1.         1.         1.         0.70710678 1.         0.5547002\n",
      "  0.9701425  1.         1.         0.70710678 0.9701425 ]\n",
      " [0.5        0.35355339 0.5        0.5        0.70710678 0.5\n",
      "  0.5        0.5        0.5        0.35355339 0.5        0.2773501\n",
      "  0.60633906 0.5        0.5        0.70710678 0.60633906]]\n",
      "[[0.70710678 0.81649658 0.81649658 0.70710678 0.81649658 0.70710678\n",
      "  0.70710678 0.81649658 0.70710678 0.81649658 0.70710678 1.\n",
      "  0.70710678 0.70710678 0.81649658 0.81649658 1.        ]\n",
      " [1.         0.57735027 0.57735027 1.         0.57735027 1.\n",
      "  0.5        0.57735027 1.         0.57735027 0.5        0.70710678\n",
      "  0.5        0.5        0.57735027 0.57735027 0.70710678]\n",
      " [0.5        0.8660254  0.8660254  0.5        0.8660254  0.5\n",
      "  1.         0.8660254  0.5        0.8660254  0.75       0.70710678\n",
      "  0.75       1.         0.8660254  0.8660254  0.70710678]\n",
      " [0.57735027 1.         1.         0.57735027 1.         0.57735027\n",
      "  0.8660254  0.66666667 0.57735027 1.         0.8660254  0.81649658\n",
      "  0.8660254  0.8660254  1.         1.         0.81649658]\n",
      " [0.5        0.8660254  0.8660254  0.5        0.8660254  0.5\n",
      "  0.75       0.57735027 0.5        0.8660254  1.         0.70710678\n",
      "  1.         0.75       0.8660254  0.8660254  0.70710678]]\n"
     ]
    }
   ],
   "source": [
    "\n",
    "df1=df.loc[timing]\n",
    "rdf=vectd.transform(df1['dish_liked']).toarray()\n",
    "udf=vectd.transform(final_rec['dish_liked']).toarray()\n",
    "dish_acc = cosine_similarity(rdf,udf)\n",
    "rdf=vectc.transform(df1['cuisines']).toarray()\n",
    "udf=vectc.transform(final_rec['cuisines']).toarray()\n",
    "cui_acc = cosine_similarity(rdf,udf)\n",
    "print(dish_acc)\n",
    "print(cui_acc)\n"
   ]
  },
  {
   "cell_type": "code",
   "execution_count": 37,
   "metadata": {},
   "outputs": [
    {
     "name": "stdout",
     "output_type": "stream",
     "text": [
      "0.9013771953683579\n",
      "0.7615274039590848\n",
      "0.6381590089209789\n",
      "0.9013771953683579\n",
      "0.5065499156972895\n"
     ]
    }
   ],
   "source": [
    "final_acc=0\n",
    "for i in dish_acc:\n",
    "    print(sum(i)/len(final_rec))\n",
    "    final_acc+=sum(i)/len(final_rec)\n",
    "final_acc=final_acc/len(timing)\n",
    "    \n",
    "    "
   ]
  },
  {
   "cell_type": "code",
   "execution_count": 38,
   "metadata": {},
   "outputs": [
    {
     "data": {
      "text/plain": [
       "0.7417981438628137"
      ]
     },
     "execution_count": 38,
     "metadata": {},
     "output_type": "execute_result"
    }
   ],
   "source": [
    "final_acc"
   ]
  }
 ],
 "metadata": {
  "kernelspec": {
   "display_name": "Python 3",
   "language": "python",
   "name": "python3"
  },
  "language_info": {
   "codemirror_mode": {
    "name": "ipython",
    "version": 3
   },
   "file_extension": ".py",
   "mimetype": "text/x-python",
   "name": "python",
   "nbconvert_exporter": "python",
   "pygments_lexer": "ipython3",
   "version": "3.8.8"
  }
 },
 "nbformat": 4,
 "nbformat_minor": 4
}
