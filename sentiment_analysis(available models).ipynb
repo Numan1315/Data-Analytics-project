{
 "cells": [
  {
   "cell_type": "code",
   "execution_count": 1,
   "id": "9349345b",
   "metadata": {},
   "outputs": [],
   "source": [
    "import pandas as pd"
   ]
  },
  {
   "cell_type": "code",
   "execution_count": 2,
   "id": "92078156",
   "metadata": {},
   "outputs": [],
   "source": [
    "df2= pd.read_csv(\"Ratings.csv\")"
   ]
  },
  {
   "cell_type": "code",
   "execution_count": 3,
   "id": "ae002ef4",
   "metadata": {},
   "outputs": [
    {
     "data": {
      "text/html": [
       "<div>\n",
       "<style scoped>\n",
       "    .dataframe tbody tr th:only-of-type {\n",
       "        vertical-align: middle;\n",
       "    }\n",
       "\n",
       "    .dataframe tbody tr th {\n",
       "        vertical-align: top;\n",
       "    }\n",
       "\n",
       "    .dataframe thead th {\n",
       "        text-align: right;\n",
       "    }\n",
       "</style>\n",
       "<table border=\"1\" class=\"dataframe\">\n",
       "  <thead>\n",
       "    <tr style=\"text-align: right;\">\n",
       "      <th></th>\n",
       "      <th>Unnamed: 0</th>\n",
       "      <th>name</th>\n",
       "      <th>rating</th>\n",
       "      <th>review</th>\n",
       "    </tr>\n",
       "  </thead>\n",
       "  <tbody>\n",
       "    <tr>\n",
       "      <th>0</th>\n",
       "      <td>0</td>\n",
       "      <td>Jalsa</td>\n",
       "      <td>4.0</td>\n",
       "      <td>A beautiful place to dine inThe interiors take...</td>\n",
       "    </tr>\n",
       "    <tr>\n",
       "      <th>1</th>\n",
       "      <td>1</td>\n",
       "      <td>Jalsa</td>\n",
       "      <td>4.0</td>\n",
       "      <td>I was here for dinner with my family on a week...</td>\n",
       "    </tr>\n",
       "    <tr>\n",
       "      <th>2</th>\n",
       "      <td>2</td>\n",
       "      <td>Jalsa</td>\n",
       "      <td>2.0</td>\n",
       "      <td>Its a restaurant near to Banashankari BDA Me a...</td>\n",
       "    </tr>\n",
       "    <tr>\n",
       "      <th>3</th>\n",
       "      <td>3</td>\n",
       "      <td>Jalsa</td>\n",
       "      <td>4.0</td>\n",
       "      <td>We went here on a weekend and one of us had th...</td>\n",
       "    </tr>\n",
       "    <tr>\n",
       "      <th>4</th>\n",
       "      <td>4</td>\n",
       "      <td>Jalsa</td>\n",
       "      <td>5.0</td>\n",
       "      <td>The best thing about the place is its ambiance...</td>\n",
       "    </tr>\n",
       "    <tr>\n",
       "      <th>...</th>\n",
       "      <td>...</td>\n",
       "      <td>...</td>\n",
       "      <td>...</td>\n",
       "      <td>...</td>\n",
       "    </tr>\n",
       "    <tr>\n",
       "      <th>1319963</th>\n",
       "      <td>1319963</td>\n",
       "      <td>Chime - Sheraton Grand Bengaluru Whitefield Ho...</td>\n",
       "      <td>5.0</td>\n",
       "      <td>My review based on food drink service\\n\\nFood ...</td>\n",
       "    </tr>\n",
       "    <tr>\n",
       "      <th>1319964</th>\n",
       "      <td>1319964</td>\n",
       "      <td>Chime - Sheraton Grand Bengaluru Whitefield Ho...</td>\n",
       "      <td>5.0</td>\n",
       "      <td>I visited chime bar at Sheraton hotel it was n...</td>\n",
       "    </tr>\n",
       "    <tr>\n",
       "      <th>1319965</th>\n",
       "      <td>1319965</td>\n",
       "      <td>Chime - Sheraton Grand Bengaluru Whitefield Ho...</td>\n",
       "      <td>4.0</td>\n",
       "      <td>This restaurant is situated inside grand Shera...</td>\n",
       "    </tr>\n",
       "    <tr>\n",
       "      <th>1319966</th>\n",
       "      <td>1319966</td>\n",
       "      <td>The Nest - The Den Bengaluru</td>\n",
       "      <td>5.0</td>\n",
       "      <td>Great ambience  looking nice good selection of...</td>\n",
       "    </tr>\n",
       "    <tr>\n",
       "      <th>1319967</th>\n",
       "      <td>1319967</td>\n",
       "      <td>The Nest - The Den Bengaluru</td>\n",
       "      <td>5.0</td>\n",
       "      <td>The nest is one of the best bar in WhitefieldT...</td>\n",
       "    </tr>\n",
       "  </tbody>\n",
       "</table>\n",
       "<p>1319968 rows × 4 columns</p>\n",
       "</div>"
      ],
      "text/plain": [
       "         Unnamed: 0                                               name  \\\n",
       "0                 0                                              Jalsa   \n",
       "1                 1                                              Jalsa   \n",
       "2                 2                                              Jalsa   \n",
       "3                 3                                              Jalsa   \n",
       "4                 4                                              Jalsa   \n",
       "...             ...                                                ...   \n",
       "1319963     1319963  Chime - Sheraton Grand Bengaluru Whitefield Ho...   \n",
       "1319964     1319964  Chime - Sheraton Grand Bengaluru Whitefield Ho...   \n",
       "1319965     1319965  Chime - Sheraton Grand Bengaluru Whitefield Ho...   \n",
       "1319966     1319966                       The Nest - The Den Bengaluru   \n",
       "1319967     1319967                       The Nest - The Den Bengaluru   \n",
       "\n",
       "         rating                                             review  \n",
       "0           4.0  A beautiful place to dine inThe interiors take...  \n",
       "1           4.0  I was here for dinner with my family on a week...  \n",
       "2           2.0  Its a restaurant near to Banashankari BDA Me a...  \n",
       "3           4.0  We went here on a weekend and one of us had th...  \n",
       "4           5.0  The best thing about the place is its ambiance...  \n",
       "...         ...                                                ...  \n",
       "1319963     5.0  My review based on food drink service\\n\\nFood ...  \n",
       "1319964     5.0  I visited chime bar at Sheraton hotel it was n...  \n",
       "1319965     4.0  This restaurant is situated inside grand Shera...  \n",
       "1319966     5.0  Great ambience  looking nice good selection of...  \n",
       "1319967     5.0  The nest is one of the best bar in WhitefieldT...  \n",
       "\n",
       "[1319968 rows x 4 columns]"
      ]
     },
     "execution_count": 3,
     "metadata": {},
     "output_type": "execute_result"
    }
   ],
   "source": [
    "df2"
   ]
  },
  {
   "cell_type": "code",
   "execution_count": null,
   "id": "8c90dc8d",
   "metadata": {},
   "outputs": [],
   "source": []
  },
  {
   "cell_type": "code",
   "execution_count": 4,
   "id": "98906c3f",
   "metadata": {},
   "outputs": [],
   "source": [
    "df2.drop(df2.columns[df2.columns.str.contains('unnamed',case = False)],axis = 1, inplace = True)"
   ]
  },
  {
   "cell_type": "code",
   "execution_count": 10,
   "id": "fc15f411",
   "metadata": {},
   "outputs": [
    {
     "data": {
      "text/plain": [
       "1188668"
      ]
     },
     "execution_count": 10,
     "metadata": {},
     "output_type": "execute_result"
    }
   ],
   "source": [
    "df2.duplicated(['name','review']).sum()"
   ]
  },
  {
   "cell_type": "markdown",
   "id": "2ec74bd5",
   "metadata": {},
   "source": [
    "### Dropping the duplicate columns"
   ]
  },
  {
   "cell_type": "code",
   "execution_count": 12,
   "id": "d03213ab",
   "metadata": {},
   "outputs": [],
   "source": [
    "df2.drop_duplicates(['name','review'],inplace = True)"
   ]
  },
  {
   "cell_type": "code",
   "execution_count": 14,
   "id": "67cc7dc4",
   "metadata": {},
   "outputs": [],
   "source": [
    "df2= df2.reset_index(drop=True)"
   ]
  },
  {
   "cell_type": "code",
   "execution_count": 16,
   "id": "a8a474bd",
   "metadata": {},
   "outputs": [
    {
     "data": {
      "text/plain": [
       "(131300, 3)"
      ]
     },
     "execution_count": 16,
     "metadata": {},
     "output_type": "execute_result"
    }
   ],
   "source": [
    "df2.shape"
   ]
  },
  {
   "cell_type": "code",
   "execution_count": 17,
   "id": "629c3b61",
   "metadata": {},
   "outputs": [],
   "source": [
    "df2['review']=df2['review'].str.lower() ## lowering the string"
   ]
  },
  {
   "cell_type": "code",
   "execution_count": 18,
   "id": "8574ce3a",
   "metadata": {},
   "outputs": [
    {
     "data": {
      "text/plain": [
       "name        0\n",
       "rating      0\n",
       "review    273\n",
       "dtype: int64"
      ]
     },
     "execution_count": 18,
     "metadata": {},
     "output_type": "execute_result"
    }
   ],
   "source": [
    "df2.isnull().sum()"
   ]
  },
  {
   "cell_type": "markdown",
   "id": "00f68962",
   "metadata": {},
   "source": [
    "### Dropping NULL values"
   ]
  },
  {
   "cell_type": "code",
   "execution_count": 19,
   "id": "fd1e26d8",
   "metadata": {},
   "outputs": [],
   "source": [
    "df2=df2.dropna(subset=['review'])\n",
    "df2=df2.reset_index(drop=True)"
   ]
  },
  {
   "cell_type": "code",
   "execution_count": 21,
   "id": "a3232c30",
   "metadata": {},
   "outputs": [
    {
     "data": {
      "text/plain": [
       "dtype('O')"
      ]
     },
     "execution_count": 21,
     "metadata": {},
     "output_type": "execute_result"
    }
   ],
   "source": [
    "#df2.review.astype('str')\n",
    "\n",
    "df2['review']=df2['review'].astype('str')\n",
    "df2.review.dtype"
   ]
  },
  {
   "cell_type": "code",
   "execution_count": 22,
   "id": "072c4c1c",
   "metadata": {},
   "outputs": [
    {
     "data": {
      "text/plain": [
       "name      0\n",
       "rating    0\n",
       "review    0\n",
       "dtype: int64"
      ]
     },
     "execution_count": 22,
     "metadata": {},
     "output_type": "execute_result"
    }
   ],
   "source": [
    "df2.isnull().sum()"
   ]
  },
  {
   "cell_type": "code",
   "execution_count": 23,
   "id": "a04ec6b1",
   "metadata": {},
   "outputs": [
    {
     "data": {
      "text/html": [
       "<div>\n",
       "<style scoped>\n",
       "    .dataframe tbody tr th:only-of-type {\n",
       "        vertical-align: middle;\n",
       "    }\n",
       "\n",
       "    .dataframe tbody tr th {\n",
       "        vertical-align: top;\n",
       "    }\n",
       "\n",
       "    .dataframe thead th {\n",
       "        text-align: right;\n",
       "    }\n",
       "</style>\n",
       "<table border=\"1\" class=\"dataframe\">\n",
       "  <thead>\n",
       "    <tr style=\"text-align: right;\">\n",
       "      <th></th>\n",
       "      <th>name</th>\n",
       "      <th>rating</th>\n",
       "      <th>review</th>\n",
       "      <th>Cleaned Reviews</th>\n",
       "    </tr>\n",
       "  </thead>\n",
       "  <tbody>\n",
       "    <tr>\n",
       "      <th>0</th>\n",
       "      <td>Jalsa</td>\n",
       "      <td>4.0</td>\n",
       "      <td>a beautiful place to dine inthe interiors take...</td>\n",
       "      <td>a beautiful place to dine inthe interiors take...</td>\n",
       "    </tr>\n",
       "    <tr>\n",
       "      <th>1</th>\n",
       "      <td>Jalsa</td>\n",
       "      <td>4.0</td>\n",
       "      <td>i was here for dinner with my family on a week...</td>\n",
       "      <td>i was here for dinner with my family on a week...</td>\n",
       "    </tr>\n",
       "    <tr>\n",
       "      <th>2</th>\n",
       "      <td>Jalsa</td>\n",
       "      <td>2.0</td>\n",
       "      <td>its a restaurant near to banashankari bda me a...</td>\n",
       "      <td>its a restaurant near to banashankari bda me a...</td>\n",
       "    </tr>\n",
       "    <tr>\n",
       "      <th>3</th>\n",
       "      <td>Jalsa</td>\n",
       "      <td>4.0</td>\n",
       "      <td>we went here on a weekend and one of us had th...</td>\n",
       "      <td>we went here on a weekend and one of us had th...</td>\n",
       "    </tr>\n",
       "    <tr>\n",
       "      <th>4</th>\n",
       "      <td>Jalsa</td>\n",
       "      <td>5.0</td>\n",
       "      <td>the best thing about the place is its ambiance...</td>\n",
       "      <td>the best thing about the place is its ambiance...</td>\n",
       "    </tr>\n",
       "  </tbody>\n",
       "</table>\n",
       "</div>"
      ],
      "text/plain": [
       "    name  rating                                             review  \\\n",
       "0  Jalsa     4.0  a beautiful place to dine inthe interiors take...   \n",
       "1  Jalsa     4.0  i was here for dinner with my family on a week...   \n",
       "2  Jalsa     2.0  its a restaurant near to banashankari bda me a...   \n",
       "3  Jalsa     4.0  we went here on a weekend and one of us had th...   \n",
       "4  Jalsa     5.0  the best thing about the place is its ambiance...   \n",
       "\n",
       "                                     Cleaned Reviews  \n",
       "0  a beautiful place to dine inthe interiors take...  \n",
       "1  i was here for dinner with my family on a week...  \n",
       "2  its a restaurant near to banashankari bda me a...  \n",
       "3  we went here on a weekend and one of us had th...  \n",
       "4  the best thing about the place is its ambiance...  "
      ]
     },
     "execution_count": 23,
     "metadata": {},
     "output_type": "execute_result"
    }
   ],
   "source": [
    "# Defining a function to clean the text\n",
    "import re\n",
    "def clean(text):\n",
    "# Removes all special characters and numericals leaving the alphabets\n",
    "    text = re.sub('[^A-Za-z]+', ' ', text)\n",
    "    return text\n",
    "df2['Cleaned Reviews']=''\n",
    "# Cleaning the text in the review column\n",
    "df2['Cleaned Reviews'] = df2['review'].apply(clean)\n",
    "df2.head()"
   ]
  },
  {
   "cell_type": "code",
   "execution_count": 16,
   "id": "982ac6fa",
   "metadata": {},
   "outputs": [
    {
     "data": {
      "text/html": [
       "<div>\n",
       "<style scoped>\n",
       "    .dataframe tbody tr th:only-of-type {\n",
       "        vertical-align: middle;\n",
       "    }\n",
       "\n",
       "    .dataframe tbody tr th {\n",
       "        vertical-align: top;\n",
       "    }\n",
       "\n",
       "    .dataframe thead th {\n",
       "        text-align: right;\n",
       "    }\n",
       "</style>\n",
       "<table border=\"1\" class=\"dataframe\">\n",
       "  <thead>\n",
       "    <tr style=\"text-align: right;\">\n",
       "      <th></th>\n",
       "      <th>name</th>\n",
       "      <th>rating</th>\n",
       "      <th>review</th>\n",
       "      <th>Cleaned Reviews</th>\n",
       "    </tr>\n",
       "  </thead>\n",
       "  <tbody>\n",
       "    <tr>\n",
       "      <th>0</th>\n",
       "      <td>Jalsa</td>\n",
       "      <td>4.0</td>\n",
       "      <td>a beautiful place to dine inthe interiors take...</td>\n",
       "      <td>a beautiful place to dine inthe interiors take...</td>\n",
       "    </tr>\n",
       "    <tr>\n",
       "      <th>1</th>\n",
       "      <td>Jalsa</td>\n",
       "      <td>4.0</td>\n",
       "      <td>i was here for dinner with my family on a week...</td>\n",
       "      <td>i was here for dinner with my family on a week...</td>\n",
       "    </tr>\n",
       "    <tr>\n",
       "      <th>2</th>\n",
       "      <td>Jalsa</td>\n",
       "      <td>2.0</td>\n",
       "      <td>its a restaurant near to banashankari bda me a...</td>\n",
       "      <td>its a restaurant near to banashankari bda me a...</td>\n",
       "    </tr>\n",
       "    <tr>\n",
       "      <th>3</th>\n",
       "      <td>Jalsa</td>\n",
       "      <td>4.0</td>\n",
       "      <td>we went here on a weekend and one of us had th...</td>\n",
       "      <td>we went here on a weekend and one of us had th...</td>\n",
       "    </tr>\n",
       "    <tr>\n",
       "      <th>4</th>\n",
       "      <td>Jalsa</td>\n",
       "      <td>5.0</td>\n",
       "      <td>the best thing about the place is its ambiance...</td>\n",
       "      <td>the best thing about the place is its ambiance...</td>\n",
       "    </tr>\n",
       "    <tr>\n",
       "      <th>...</th>\n",
       "      <td>...</td>\n",
       "      <td>...</td>\n",
       "      <td>...</td>\n",
       "      <td>...</td>\n",
       "    </tr>\n",
       "    <tr>\n",
       "      <th>131258</th>\n",
       "      <td>BAR BAR</td>\n",
       "      <td>4.0</td>\n",
       "      <td>more than the food i guess the happy lively an...</td>\n",
       "      <td>more than the food i guess the happy lively an...</td>\n",
       "    </tr>\n",
       "    <tr>\n",
       "      <th>131259</th>\n",
       "      <td>BAR BAR</td>\n",
       "      <td>4.0</td>\n",
       "      <td>today evening i visited this place \\nbest thin...</td>\n",
       "      <td>today evening i visited this place best thing ...</td>\n",
       "    </tr>\n",
       "    <tr>\n",
       "      <th>131260</th>\n",
       "      <td>Bhagini</td>\n",
       "      <td>4.0</td>\n",
       "      <td>a fine place to chill after office hours reaso...</td>\n",
       "      <td>a fine place to chill after office hours reaso...</td>\n",
       "    </tr>\n",
       "    <tr>\n",
       "      <th>131261</th>\n",
       "      <td>Bhagini</td>\n",
       "      <td>3.0</td>\n",
       "      <td>thank god bhagini replaced the old and phathet...</td>\n",
       "      <td>thank god bhagini replaced the old and phathet...</td>\n",
       "    </tr>\n",
       "    <tr>\n",
       "      <th>131262</th>\n",
       "      <td>Bhagini</td>\n",
       "      <td>2.0</td>\n",
       "      <td>decent place havent tried the andhra meal yet ...</td>\n",
       "      <td>decent place havent tried the andhra meal yet ...</td>\n",
       "    </tr>\n",
       "  </tbody>\n",
       "</table>\n",
       "<p>131263 rows × 4 columns</p>\n",
       "</div>"
      ],
      "text/plain": [
       "           name  rating                                             review  \\\n",
       "0         Jalsa     4.0  a beautiful place to dine inthe interiors take...   \n",
       "1         Jalsa     4.0  i was here for dinner with my family on a week...   \n",
       "2         Jalsa     2.0  its a restaurant near to banashankari bda me a...   \n",
       "3         Jalsa     4.0  we went here on a weekend and one of us had th...   \n",
       "4         Jalsa     5.0  the best thing about the place is its ambiance...   \n",
       "...         ...     ...                                                ...   \n",
       "131258  BAR BAR     4.0  more than the food i guess the happy lively an...   \n",
       "131259  BAR BAR     4.0  today evening i visited this place \\nbest thin...   \n",
       "131260  Bhagini     4.0  a fine place to chill after office hours reaso...   \n",
       "131261  Bhagini     3.0  thank god bhagini replaced the old and phathet...   \n",
       "131262  Bhagini     2.0  decent place havent tried the andhra meal yet ...   \n",
       "\n",
       "                                          Cleaned Reviews  \n",
       "0       a beautiful place to dine inthe interiors take...  \n",
       "1       i was here for dinner with my family on a week...  \n",
       "2       its a restaurant near to banashankari bda me a...  \n",
       "3       we went here on a weekend and one of us had th...  \n",
       "4       the best thing about the place is its ambiance...  \n",
       "...                                                   ...  \n",
       "131258  more than the food i guess the happy lively an...  \n",
       "131259  today evening i visited this place best thing ...  \n",
       "131260  a fine place to chill after office hours reaso...  \n",
       "131261  thank god bhagini replaced the old and phathet...  \n",
       "131262  decent place havent tried the andhra meal yet ...  \n",
       "\n",
       "[131263 rows x 4 columns]"
      ]
     },
     "execution_count": 16,
     "metadata": {},
     "output_type": "execute_result"
    }
   ],
   "source": [
    "df2['Cleaned Reviews'] = df2['Cleaned Reviews'].str.lower()\n",
    "df2"
   ]
  },
  {
   "cell_type": "code",
   "execution_count": 24,
   "id": "e017d3a7",
   "metadata": {},
   "outputs": [],
   "source": [
    "##Removing Punctuation\n",
    "import string\n",
    "PUNCT_TO_REMOVE = string.punctuation\n",
    "def remove_punctuation(text):\n",
    "    \"\"\"custom function to remove the punctuation\"\"\"\n",
    "    return text.translate(str.maketrans('', '', PUNCT_TO_REMOVE))\n",
    "\n",
    "df2['Cleaned Reviews'] = df2['Cleaned Reviews'].apply(lambda text: remove_punctuation(text))"
   ]
  },
  {
   "cell_type": "code",
   "execution_count": 25,
   "id": "5ed23354",
   "metadata": {},
   "outputs": [
    {
     "data": {
      "text/html": [
       "<div>\n",
       "<style scoped>\n",
       "    .dataframe tbody tr th:only-of-type {\n",
       "        vertical-align: middle;\n",
       "    }\n",
       "\n",
       "    .dataframe tbody tr th {\n",
       "        vertical-align: top;\n",
       "    }\n",
       "\n",
       "    .dataframe thead th {\n",
       "        text-align: right;\n",
       "    }\n",
       "</style>\n",
       "<table border=\"1\" class=\"dataframe\">\n",
       "  <thead>\n",
       "    <tr style=\"text-align: right;\">\n",
       "      <th></th>\n",
       "      <th>name</th>\n",
       "      <th>rating</th>\n",
       "      <th>review</th>\n",
       "      <th>Cleaned Reviews</th>\n",
       "    </tr>\n",
       "  </thead>\n",
       "  <tbody>\n",
       "    <tr>\n",
       "      <th>86901</th>\n",
       "      <td>Faasos</td>\n",
       "      <td>4.0</td>\n",
       "      <td>had the pleasure of being sent over a couple o...</td>\n",
       "      <td>had the pleasure of being sent over a couple o...</td>\n",
       "    </tr>\n",
       "    <tr>\n",
       "      <th>86783</th>\n",
       "      <td>Fazzito Kitchen</td>\n",
       "      <td>1.0</td>\n",
       "      <td>food not up to standardi ordered dum biryani b...</td>\n",
       "      <td>food not up to standardi ordered dum biryani b...</td>\n",
       "    </tr>\n",
       "    <tr>\n",
       "      <th>123296</th>\n",
       "      <td>Thindi Palace</td>\n",
       "      <td>3.0</td>\n",
       "      <td>packing was not proper boxes lids were not clo...</td>\n",
       "      <td>packing was not proper boxes lids were not clo...</td>\n",
       "    </tr>\n",
       "  </tbody>\n",
       "</table>\n",
       "</div>"
      ],
      "text/plain": [
       "                   name  rating  \\\n",
       "86901            Faasos     4.0   \n",
       "86783   Fazzito Kitchen     1.0   \n",
       "123296    Thindi Palace     3.0   \n",
       "\n",
       "                                                   review  \\\n",
       "86901   had the pleasure of being sent over a couple o...   \n",
       "86783   food not up to standardi ordered dum biryani b...   \n",
       "123296  packing was not proper boxes lids were not clo...   \n",
       "\n",
       "                                          Cleaned Reviews  \n",
       "86901   had the pleasure of being sent over a couple o...  \n",
       "86783   food not up to standardi ordered dum biryani b...  \n",
       "123296  packing was not proper boxes lids were not clo...  "
      ]
     },
     "execution_count": 25,
     "metadata": {},
     "output_type": "execute_result"
    }
   ],
   "source": [
    "## Removing URLs\n",
    "def remove_urls(text):\n",
    "    url_pattern = re.compile(r'https?://\\S+|www\\.\\S+')\n",
    "    return url_pattern.sub(r'', text)\n",
    "\n",
    "df2['Cleaned Reviews'] = df2['Cleaned Reviews'].apply(lambda text: remove_urls(text))\n",
    "df2.sample(3)"
   ]
  },
  {
   "cell_type": "markdown",
   "id": "80554982",
   "metadata": {},
   "source": [
    "### Stopwords Removal"
   ]
  },
  {
   "cell_type": "code",
   "execution_count": 26,
   "id": "1d7ae47f",
   "metadata": {},
   "outputs": [
    {
     "data": {
      "text/html": [
       "<div>\n",
       "<style scoped>\n",
       "    .dataframe tbody tr th:only-of-type {\n",
       "        vertical-align: middle;\n",
       "    }\n",
       "\n",
       "    .dataframe tbody tr th {\n",
       "        vertical-align: top;\n",
       "    }\n",
       "\n",
       "    .dataframe thead th {\n",
       "        text-align: right;\n",
       "    }\n",
       "</style>\n",
       "<table border=\"1\" class=\"dataframe\">\n",
       "  <thead>\n",
       "    <tr style=\"text-align: right;\">\n",
       "      <th></th>\n",
       "      <th>name</th>\n",
       "      <th>rating</th>\n",
       "      <th>review</th>\n",
       "      <th>Cleaned Reviews</th>\n",
       "    </tr>\n",
       "  </thead>\n",
       "  <tbody>\n",
       "    <tr>\n",
       "      <th>98360</th>\n",
       "      <td>Zabi</td>\n",
       "      <td>5.0</td>\n",
       "      <td>green mint chutney was missing</td>\n",
       "      <td>green mint chutney missing</td>\n",
       "    </tr>\n",
       "  </tbody>\n",
       "</table>\n",
       "</div>"
      ],
      "text/plain": [
       "       name  rating                          review  \\\n",
       "98360  Zabi     5.0  green mint chutney was missing   \n",
       "\n",
       "                  Cleaned Reviews  \n",
       "98360  green mint chutney missing  "
      ]
     },
     "execution_count": 26,
     "metadata": {},
     "output_type": "execute_result"
    }
   ],
   "source": [
    "\n",
    "from nltk.corpus import stopwords\n",
    "STOPWORDS = set(stopwords.words('english'))\n",
    "def remove_stopwords(text):\n",
    "    \"\"\"custom function to remove the stopwords\"\"\"\n",
    "    return \" \".join([word for word in str(text).split() if word not in STOPWORDS])\n",
    "\n",
    "df2['Cleaned Reviews'] = df2['Cleaned Reviews'].apply(lambda text: remove_stopwords(text))\n",
    "df2.sample()"
   ]
  },
  {
   "cell_type": "markdown",
   "id": "4ee6b9f9",
   "metadata": {},
   "source": [
    "### Lemmetization"
   ]
  },
  {
   "cell_type": "code",
   "execution_count": 32,
   "id": "a9f117a8",
   "metadata": {},
   "outputs": [
    {
     "data": {
      "text/html": [
       "<div>\n",
       "<style scoped>\n",
       "    .dataframe tbody tr th:only-of-type {\n",
       "        vertical-align: middle;\n",
       "    }\n",
       "\n",
       "    .dataframe tbody tr th {\n",
       "        vertical-align: top;\n",
       "    }\n",
       "\n",
       "    .dataframe thead th {\n",
       "        text-align: right;\n",
       "    }\n",
       "</style>\n",
       "<table border=\"1\" class=\"dataframe\">\n",
       "  <thead>\n",
       "    <tr style=\"text-align: right;\">\n",
       "      <th></th>\n",
       "      <th>name</th>\n",
       "      <th>rating</th>\n",
       "      <th>review</th>\n",
       "      <th>Cleaned Reviews</th>\n",
       "      <th>Lemma</th>\n",
       "    </tr>\n",
       "  </thead>\n",
       "  <tbody>\n",
       "    <tr>\n",
       "      <th>0</th>\n",
       "      <td>Jalsa</td>\n",
       "      <td>4.0</td>\n",
       "      <td>a beautiful place to dine inthe interiors take...</td>\n",
       "      <td>beautiful place dine inthe interiors take back...</td>\n",
       "      <td>beautiful place dine inthe interior take back ...</td>\n",
       "    </tr>\n",
       "    <tr>\n",
       "      <th>1</th>\n",
       "      <td>Jalsa</td>\n",
       "      <td>4.0</td>\n",
       "      <td>i was here for dinner with my family on a week...</td>\n",
       "      <td>dinner family weekday restaurant completely em...</td>\n",
       "      <td>dinner family weekday restaurant completely em...</td>\n",
       "    </tr>\n",
       "    <tr>\n",
       "      <th>2</th>\n",
       "      <td>Jalsa</td>\n",
       "      <td>2.0</td>\n",
       "      <td>its a restaurant near to banashankari bda me a...</td>\n",
       "      <td>restaurant near banashankari bda along office ...</td>\n",
       "      <td>restaurant near banashankari bda along office ...</td>\n",
       "    </tr>\n",
       "    <tr>\n",
       "      <th>3</th>\n",
       "      <td>Jalsa</td>\n",
       "      <td>4.0</td>\n",
       "      <td>we went here on a weekend and one of us had th...</td>\n",
       "      <td>went weekend one us buffet two us took ala car...</td>\n",
       "      <td>went weekend one u buffet two u took ala carte...</td>\n",
       "    </tr>\n",
       "    <tr>\n",
       "      <th>4</th>\n",
       "      <td>Jalsa</td>\n",
       "      <td>5.0</td>\n",
       "      <td>the best thing about the place is its ambiance...</td>\n",
       "      <td>best thing place ambiance second best thing yu...</td>\n",
       "      <td>best thing place ambiance second best thing yu...</td>\n",
       "    </tr>\n",
       "  </tbody>\n",
       "</table>\n",
       "</div>"
      ],
      "text/plain": [
       "    name  rating                                             review  \\\n",
       "0  Jalsa     4.0  a beautiful place to dine inthe interiors take...   \n",
       "1  Jalsa     4.0  i was here for dinner with my family on a week...   \n",
       "2  Jalsa     2.0  its a restaurant near to banashankari bda me a...   \n",
       "3  Jalsa     4.0  we went here on a weekend and one of us had th...   \n",
       "4  Jalsa     5.0  the best thing about the place is its ambiance...   \n",
       "\n",
       "                                     Cleaned Reviews  \\\n",
       "0  beautiful place dine inthe interiors take back...   \n",
       "1  dinner family weekday restaurant completely em...   \n",
       "2  restaurant near banashankari bda along office ...   \n",
       "3  went weekend one us buffet two us took ala car...   \n",
       "4  best thing place ambiance second best thing yu...   \n",
       "\n",
       "                                               Lemma  \n",
       "0  beautiful place dine inthe interior take back ...  \n",
       "1  dinner family weekday restaurant completely em...  \n",
       "2  restaurant near banashankari bda along office ...  \n",
       "3  went weekend one u buffet two u took ala carte...  \n",
       "4  best thing place ambiance second best thing yu...  "
      ]
     },
     "execution_count": 32,
     "metadata": {},
     "output_type": "execute_result"
    }
   ],
   "source": [
    "import nltk\n",
    "from nltk.stem import WordNetLemmatizer\n",
    "lemmatizer = WordNetLemmatizer()\n",
    "def lemmatize(pos_data):\n",
    "    lemma_rew = \" \"\n",
    "    word_list = nltk.word_tokenize(pos_data)\n",
    "    lemmatized_output = ' '.join([lemmatizer.lemmatize(w) for w in word_list])\n",
    "    return lemmatized_output\n",
    "\n",
    "df2['Lemma'] = df2['Cleaned Reviews'].apply(lemmatize)\n",
    "df2.head()"
   ]
  },
  {
   "cell_type": "markdown",
   "id": "21cbccb7",
   "metadata": {},
   "source": [
    "### Applying TextBlob for Sentiment Analysis"
   ]
  },
  {
   "cell_type": "code",
   "execution_count": 33,
   "id": "a1bf10e7",
   "metadata": {},
   "outputs": [
    {
     "data": {
      "text/html": [
       "<div>\n",
       "<style scoped>\n",
       "    .dataframe tbody tr th:only-of-type {\n",
       "        vertical-align: middle;\n",
       "    }\n",
       "\n",
       "    .dataframe tbody tr th {\n",
       "        vertical-align: top;\n",
       "    }\n",
       "\n",
       "    .dataframe thead th {\n",
       "        text-align: right;\n",
       "    }\n",
       "</style>\n",
       "<table border=\"1\" class=\"dataframe\">\n",
       "  <thead>\n",
       "    <tr style=\"text-align: right;\">\n",
       "      <th></th>\n",
       "      <th>name</th>\n",
       "      <th>rating</th>\n",
       "      <th>review</th>\n",
       "      <th>Cleaned Reviews</th>\n",
       "      <th>Lemma</th>\n",
       "      <th>Subjectivity</th>\n",
       "      <th>Polarity</th>\n",
       "      <th>Analysis</th>\n",
       "    </tr>\n",
       "  </thead>\n",
       "  <tbody>\n",
       "    <tr>\n",
       "      <th>0</th>\n",
       "      <td>Jalsa</td>\n",
       "      <td>4.0</td>\n",
       "      <td>a beautiful place to dine inthe interiors take...</td>\n",
       "      <td>beautiful place dine inthe interiors take back...</td>\n",
       "      <td>beautiful place dine inthe interior take back ...</td>\n",
       "      <td>0.438624</td>\n",
       "      <td>0.229762</td>\n",
       "      <td>1</td>\n",
       "    </tr>\n",
       "    <tr>\n",
       "      <th>1</th>\n",
       "      <td>Jalsa</td>\n",
       "      <td>4.0</td>\n",
       "      <td>i was here for dinner with my family on a week...</td>\n",
       "      <td>dinner family weekday restaurant completely em...</td>\n",
       "      <td>dinner family weekday restaurant completely em...</td>\n",
       "      <td>0.533333</td>\n",
       "      <td>0.500000</td>\n",
       "      <td>1</td>\n",
       "    </tr>\n",
       "    <tr>\n",
       "      <th>2</th>\n",
       "      <td>Jalsa</td>\n",
       "      <td>2.0</td>\n",
       "      <td>its a restaurant near to banashankari bda me a...</td>\n",
       "      <td>restaurant near banashankari bda along office ...</td>\n",
       "      <td>restaurant near banashankari bda along office ...</td>\n",
       "      <td>0.566667</td>\n",
       "      <td>0.183333</td>\n",
       "      <td>1</td>\n",
       "    </tr>\n",
       "    <tr>\n",
       "      <th>3</th>\n",
       "      <td>Jalsa</td>\n",
       "      <td>4.0</td>\n",
       "      <td>we went here on a weekend and one of us had th...</td>\n",
       "      <td>went weekend one us buffet two us took ala car...</td>\n",
       "      <td>went weekend one u buffet two u took ala carte...</td>\n",
       "      <td>0.655556</td>\n",
       "      <td>0.641667</td>\n",
       "      <td>1</td>\n",
       "    </tr>\n",
       "    <tr>\n",
       "      <th>4</th>\n",
       "      <td>Jalsa</td>\n",
       "      <td>5.0</td>\n",
       "      <td>the best thing about the place is its ambiance...</td>\n",
       "      <td>best thing place ambiance second best thing yu...</td>\n",
       "      <td>best thing place ambiance second best thing yu...</td>\n",
       "      <td>0.368750</td>\n",
       "      <td>0.340625</td>\n",
       "      <td>1</td>\n",
       "    </tr>\n",
       "  </tbody>\n",
       "</table>\n",
       "</div>"
      ],
      "text/plain": [
       "    name  rating                                             review  \\\n",
       "0  Jalsa     4.0  a beautiful place to dine inthe interiors take...   \n",
       "1  Jalsa     4.0  i was here for dinner with my family on a week...   \n",
       "2  Jalsa     2.0  its a restaurant near to banashankari bda me a...   \n",
       "3  Jalsa     4.0  we went here on a weekend and one of us had th...   \n",
       "4  Jalsa     5.0  the best thing about the place is its ambiance...   \n",
       "\n",
       "                                     Cleaned Reviews  \\\n",
       "0  beautiful place dine inthe interiors take back...   \n",
       "1  dinner family weekday restaurant completely em...   \n",
       "2  restaurant near banashankari bda along office ...   \n",
       "3  went weekend one us buffet two us took ala car...   \n",
       "4  best thing place ambiance second best thing yu...   \n",
       "\n",
       "                                               Lemma  Subjectivity  Polarity  \\\n",
       "0  beautiful place dine inthe interior take back ...      0.438624  0.229762   \n",
       "1  dinner family weekday restaurant completely em...      0.533333  0.500000   \n",
       "2  restaurant near banashankari bda along office ...      0.566667  0.183333   \n",
       "3  went weekend one u buffet two u took ala carte...      0.655556  0.641667   \n",
       "4  best thing place ambiance second best thing yu...      0.368750  0.340625   \n",
       "\n",
       "   Analysis  \n",
       "0         1  \n",
       "1         1  \n",
       "2         1  \n",
       "3         1  \n",
       "4         1  "
      ]
     },
     "execution_count": 33,
     "metadata": {},
     "output_type": "execute_result"
    }
   ],
   "source": [
    "from textblob import TextBlob\n",
    "# function to calculate subjectivity\n",
    "def getSubjectivity(review):\n",
    "    return TextBlob(review).sentiment.subjectivity\n",
    "    # function to calculate polarity\n",
    "def getPolarity(review):\n",
    "    return TextBlob(review).sentiment.polarity\n",
    "\n",
    "# function to analyze the reviews\n",
    "def analysis(score):\n",
    "    if score < 0:\n",
    "        return -1\n",
    "    elif score == 0:\n",
    "        return 0\n",
    "    else:\n",
    "        return 1\n",
    "\n",
    "df2['Subjectivity'] = df2.Lemma.apply(getSubjectivity) \n",
    "df2['Polarity'] = df2['Lemma'].apply(getPolarity) \n",
    "df2['Analysis'] = df2['Polarity'].apply(analysis)\n",
    "df2.head()"
   ]
  },
  {
   "cell_type": "code",
   "execution_count": 34,
   "id": "b4789f68",
   "metadata": {},
   "outputs": [],
   "source": [
    "df2.drop(\"Cleaned Reviews\", axis= 'columns', inplace=True)"
   ]
  },
  {
   "cell_type": "markdown",
   "id": "091bbc16",
   "metadata": {},
   "source": [
    "### Applying VADER for Sentiment Analysis"
   ]
  },
  {
   "cell_type": "code",
   "execution_count": 36,
   "id": "455928dd",
   "metadata": {},
   "outputs": [],
   "source": [
    "from vaderSentiment.vaderSentiment import SentimentIntensityAnalyzer\n",
    "analyzer = SentimentIntensityAnalyzer()\n",
    "# function to calculate vader sentiment\n",
    "df2['Vader Sentiment'] = ''\n",
    "def vadersentimentanalysis(review):\n",
    "    vs = analyzer.polarity_scores(review)\n",
    "    return vs['compound']\n",
    "df2['Vader Sentiment'] = df2['Lemma'].apply(vadersentimentanalysis)\n"
   ]
  },
  {
   "cell_type": "code",
   "execution_count": 37,
   "id": "571bad61",
   "metadata": {},
   "outputs": [
    {
     "data": {
      "text/html": [
       "<div>\n",
       "<style scoped>\n",
       "    .dataframe tbody tr th:only-of-type {\n",
       "        vertical-align: middle;\n",
       "    }\n",
       "\n",
       "    .dataframe tbody tr th {\n",
       "        vertical-align: top;\n",
       "    }\n",
       "\n",
       "    .dataframe thead th {\n",
       "        text-align: right;\n",
       "    }\n",
       "</style>\n",
       "<table border=\"1\" class=\"dataframe\">\n",
       "  <thead>\n",
       "    <tr style=\"text-align: right;\">\n",
       "      <th></th>\n",
       "      <th>name</th>\n",
       "      <th>rating</th>\n",
       "      <th>review</th>\n",
       "      <th>Lemma</th>\n",
       "      <th>Subjectivity</th>\n",
       "      <th>Polarity</th>\n",
       "      <th>Analysis</th>\n",
       "      <th>Vader Sentiment</th>\n",
       "      <th>Vader Analysis</th>\n",
       "    </tr>\n",
       "  </thead>\n",
       "  <tbody>\n",
       "    <tr>\n",
       "      <th>0</th>\n",
       "      <td>Jalsa</td>\n",
       "      <td>4.0</td>\n",
       "      <td>a beautiful place to dine inthe interiors take...</td>\n",
       "      <td>beautiful place dine inthe interior take back ...</td>\n",
       "      <td>0.438624</td>\n",
       "      <td>0.229762</td>\n",
       "      <td>1</td>\n",
       "      <td>0.7351</td>\n",
       "      <td>1</td>\n",
       "    </tr>\n",
       "    <tr>\n",
       "      <th>1</th>\n",
       "      <td>Jalsa</td>\n",
       "      <td>4.0</td>\n",
       "      <td>i was here for dinner with my family on a week...</td>\n",
       "      <td>dinner family weekday restaurant completely em...</td>\n",
       "      <td>0.533333</td>\n",
       "      <td>0.500000</td>\n",
       "      <td>1</td>\n",
       "      <td>0.9646</td>\n",
       "      <td>1</td>\n",
       "    </tr>\n",
       "    <tr>\n",
       "      <th>2</th>\n",
       "      <td>Jalsa</td>\n",
       "      <td>2.0</td>\n",
       "      <td>its a restaurant near to banashankari bda me a...</td>\n",
       "      <td>restaurant near banashankari bda along office ...</td>\n",
       "      <td>0.566667</td>\n",
       "      <td>0.183333</td>\n",
       "      <td>1</td>\n",
       "      <td>0.7845</td>\n",
       "      <td>1</td>\n",
       "    </tr>\n",
       "    <tr>\n",
       "      <th>3</th>\n",
       "      <td>Jalsa</td>\n",
       "      <td>4.0</td>\n",
       "      <td>we went here on a weekend and one of us had th...</td>\n",
       "      <td>went weekend one u buffet two u took ala carte...</td>\n",
       "      <td>0.655556</td>\n",
       "      <td>0.641667</td>\n",
       "      <td>1</td>\n",
       "      <td>0.9686</td>\n",
       "      <td>1</td>\n",
       "    </tr>\n",
       "    <tr>\n",
       "      <th>4</th>\n",
       "      <td>Jalsa</td>\n",
       "      <td>5.0</td>\n",
       "      <td>the best thing about the place is its ambiance...</td>\n",
       "      <td>best thing place ambiance second best thing yu...</td>\n",
       "      <td>0.368750</td>\n",
       "      <td>0.340625</td>\n",
       "      <td>1</td>\n",
       "      <td>0.9485</td>\n",
       "      <td>1</td>\n",
       "    </tr>\n",
       "  </tbody>\n",
       "</table>\n",
       "</div>"
      ],
      "text/plain": [
       "    name  rating                                             review  \\\n",
       "0  Jalsa     4.0  a beautiful place to dine inthe interiors take...   \n",
       "1  Jalsa     4.0  i was here for dinner with my family on a week...   \n",
       "2  Jalsa     2.0  its a restaurant near to banashankari bda me a...   \n",
       "3  Jalsa     4.0  we went here on a weekend and one of us had th...   \n",
       "4  Jalsa     5.0  the best thing about the place is its ambiance...   \n",
       "\n",
       "                                               Lemma  Subjectivity  Polarity  \\\n",
       "0  beautiful place dine inthe interior take back ...      0.438624  0.229762   \n",
       "1  dinner family weekday restaurant completely em...      0.533333  0.500000   \n",
       "2  restaurant near banashankari bda along office ...      0.566667  0.183333   \n",
       "3  went weekend one u buffet two u took ala carte...      0.655556  0.641667   \n",
       "4  best thing place ambiance second best thing yu...      0.368750  0.340625   \n",
       "\n",
       "   Analysis  Vader Sentiment  Vader Analysis  \n",
       "0         1           0.7351               1  \n",
       "1         1           0.9646               1  \n",
       "2         1           0.7845               1  \n",
       "3         1           0.9686               1  \n",
       "4         1           0.9485               1  "
      ]
     },
     "execution_count": 37,
     "metadata": {},
     "output_type": "execute_result"
    }
   ],
   "source": [
    "#function to analyse\n",
    "def vader_analysis(compound):\n",
    "    if compound >= 0.5:\n",
    "        return 1\n",
    "    elif compound <= -0.5 :\n",
    "        return -1\n",
    "    else:\n",
    "        return 0\n",
    "df2['Vader Analysis'] = df2['Vader Sentiment'].apply(vader_analysis)\n",
    "df2.head()"
   ]
  },
  {
   "cell_type": "code",
   "execution_count": 38,
   "id": "dedb9399",
   "metadata": {},
   "outputs": [
    {
     "data": {
      "text/plain": [
       " 1    90241\n",
       " 0    30789\n",
       "-1     9997\n",
       "Name: Vader Analysis, dtype: int64"
      ]
     },
     "execution_count": 38,
     "metadata": {},
     "output_type": "execute_result"
    }
   ],
   "source": [
    "vader_counts = df2['Vader Analysis'].value_counts()\n",
    "vader_counts"
   ]
  },
  {
   "cell_type": "code",
   "execution_count": 39,
   "id": "a1cf2592",
   "metadata": {},
   "outputs": [
    {
     "data": {
      "text/plain": [
       " 1    101557\n",
       "-1     23077\n",
       " 0      6393\n",
       "Name: Analysis, dtype: int64"
      ]
     },
     "execution_count": 39,
     "metadata": {},
     "output_type": "execute_result"
    }
   ],
   "source": [
    "tb_counts = df2['Analysis'].value_counts()\n",
    "tb_counts"
   ]
  },
  {
   "cell_type": "code",
   "execution_count": 40,
   "id": "08d98984",
   "metadata": {},
   "outputs": [
    {
     "data": {
      "text/html": [
       "<div>\n",
       "<style scoped>\n",
       "    .dataframe tbody tr th:only-of-type {\n",
       "        vertical-align: middle;\n",
       "    }\n",
       "\n",
       "    .dataframe tbody tr th {\n",
       "        vertical-align: top;\n",
       "    }\n",
       "\n",
       "    .dataframe thead th {\n",
       "        text-align: right;\n",
       "    }\n",
       "</style>\n",
       "<table border=\"1\" class=\"dataframe\">\n",
       "  <thead>\n",
       "    <tr style=\"text-align: right;\">\n",
       "      <th></th>\n",
       "      <th>name</th>\n",
       "      <th>rating</th>\n",
       "      <th>review</th>\n",
       "      <th>Lemma</th>\n",
       "      <th>Subjectivity</th>\n",
       "      <th>Polarity</th>\n",
       "      <th>Analysis</th>\n",
       "      <th>Vader Sentiment</th>\n",
       "      <th>Vader Analysis</th>\n",
       "      <th>rate_pred</th>\n",
       "    </tr>\n",
       "  </thead>\n",
       "  <tbody>\n",
       "    <tr>\n",
       "      <th>0</th>\n",
       "      <td>Jalsa</td>\n",
       "      <td>4.0</td>\n",
       "      <td>a beautiful place to dine inthe interiors take...</td>\n",
       "      <td>beautiful place dine inthe interior take back ...</td>\n",
       "      <td>0.438624</td>\n",
       "      <td>0.229762</td>\n",
       "      <td>1</td>\n",
       "      <td>0.7351</td>\n",
       "      <td>1</td>\n",
       "      <td>1</td>\n",
       "    </tr>\n",
       "    <tr>\n",
       "      <th>1</th>\n",
       "      <td>Jalsa</td>\n",
       "      <td>4.0</td>\n",
       "      <td>i was here for dinner with my family on a week...</td>\n",
       "      <td>dinner family weekday restaurant completely em...</td>\n",
       "      <td>0.533333</td>\n",
       "      <td>0.500000</td>\n",
       "      <td>1</td>\n",
       "      <td>0.9646</td>\n",
       "      <td>1</td>\n",
       "      <td>1</td>\n",
       "    </tr>\n",
       "    <tr>\n",
       "      <th>2</th>\n",
       "      <td>Jalsa</td>\n",
       "      <td>2.0</td>\n",
       "      <td>its a restaurant near to banashankari bda me a...</td>\n",
       "      <td>restaurant near banashankari bda along office ...</td>\n",
       "      <td>0.566667</td>\n",
       "      <td>0.183333</td>\n",
       "      <td>1</td>\n",
       "      <td>0.7845</td>\n",
       "      <td>1</td>\n",
       "      <td>-1</td>\n",
       "    </tr>\n",
       "    <tr>\n",
       "      <th>3</th>\n",
       "      <td>Jalsa</td>\n",
       "      <td>4.0</td>\n",
       "      <td>we went here on a weekend and one of us had th...</td>\n",
       "      <td>went weekend one u buffet two u took ala carte...</td>\n",
       "      <td>0.655556</td>\n",
       "      <td>0.641667</td>\n",
       "      <td>1</td>\n",
       "      <td>0.9686</td>\n",
       "      <td>1</td>\n",
       "      <td>1</td>\n",
       "    </tr>\n",
       "    <tr>\n",
       "      <th>4</th>\n",
       "      <td>Jalsa</td>\n",
       "      <td>5.0</td>\n",
       "      <td>the best thing about the place is its ambiance...</td>\n",
       "      <td>best thing place ambiance second best thing yu...</td>\n",
       "      <td>0.368750</td>\n",
       "      <td>0.340625</td>\n",
       "      <td>1</td>\n",
       "      <td>0.9485</td>\n",
       "      <td>1</td>\n",
       "      <td>1</td>\n",
       "    </tr>\n",
       "  </tbody>\n",
       "</table>\n",
       "</div>"
      ],
      "text/plain": [
       "    name  rating                                             review  \\\n",
       "0  Jalsa     4.0  a beautiful place to dine inthe interiors take...   \n",
       "1  Jalsa     4.0  i was here for dinner with my family on a week...   \n",
       "2  Jalsa     2.0  its a restaurant near to banashankari bda me a...   \n",
       "3  Jalsa     4.0  we went here on a weekend and one of us had th...   \n",
       "4  Jalsa     5.0  the best thing about the place is its ambiance...   \n",
       "\n",
       "                                               Lemma  Subjectivity  Polarity  \\\n",
       "0  beautiful place dine inthe interior take back ...      0.438624  0.229762   \n",
       "1  dinner family weekday restaurant completely em...      0.533333  0.500000   \n",
       "2  restaurant near banashankari bda along office ...      0.566667  0.183333   \n",
       "3  went weekend one u buffet two u took ala carte...      0.655556  0.641667   \n",
       "4  best thing place ambiance second best thing yu...      0.368750  0.340625   \n",
       "\n",
       "   Analysis  Vader Sentiment  Vader Analysis  rate_pred  \n",
       "0         1           0.7351               1          1  \n",
       "1         1           0.9646               1          1  \n",
       "2         1           0.7845               1         -1  \n",
       "3         1           0.9686               1          1  \n",
       "4         1           0.9485               1          1  "
      ]
     },
     "execution_count": 40,
     "metadata": {},
     "output_type": "execute_result"
    }
   ],
   "source": [
    "def rating(rating):\n",
    "    if(rating > 3):\n",
    "        return 1\n",
    "    elif(rating < 3):\n",
    "        return -1\n",
    "    else:\n",
    "        return 0\n",
    "df2['rate_pred'] = df2['rating'].apply(rating) \n",
    "df2.head()"
   ]
  },
  {
   "cell_type": "code",
   "execution_count": 41,
   "id": "553a9ee1",
   "metadata": {},
   "outputs": [
    {
     "data": {
      "text/plain": [
       " 1    83468\n",
       "-1    29408\n",
       " 0    18151\n",
       "Name: rate_pred, dtype: int64"
      ]
     },
     "execution_count": 41,
     "metadata": {},
     "output_type": "execute_result"
    }
   ],
   "source": [
    "actual_counts = df2['rate_pred'].value_counts()\n",
    "actual_counts"
   ]
  },
  {
   "cell_type": "markdown",
   "id": "dd815aa2",
   "metadata": {},
   "source": [
    "### Checking the accuracy of our models(TextBlob and VADER) with actual results"
   ]
  },
  {
   "cell_type": "code",
   "execution_count": 42,
   "id": "bbb36f55",
   "metadata": {},
   "outputs": [
    {
     "data": {
      "text/plain": [
       "([<matplotlib.patches.Wedge at 0x26828e757f0>,\n",
       "  <matplotlib.patches.Wedge at 0x26828e75f40>,\n",
       "  <matplotlib.patches.Wedge at 0x26828e83610>],\n",
       " [Text(-0.45904703555346843, 0.999637843996301, '1'),\n",
       "  Text(-0.005182666556439033, -1.0999877908265006, '-1'),\n",
       "  Text(1.2241602655039658, -0.5691499313548763, '0')],\n",
       " [Text(-0.25038929212007366, 0.5452570058161641, '63.7%'),\n",
       "  Text(-0.002826909030784927, -0.5999933404508184, '22.4%'),\n",
       "  Text(0.770767574576571, -0.3583536604826999, '13.9%')])"
      ]
     },
     "execution_count": 42,
     "metadata": {},
     "output_type": "execute_result"
    },
    {
     "data": {
      "image/png": "[encoded data removed]",
      "text/plain": [
       "<Figure size 1080x504 with 3 Axes>"
      ]
     },
     "metadata": {},
     "output_type": "display_data"
    }
   ],
   "source": [
    "import matplotlib.pyplot as plt\n",
    "%matplotlib inline\n",
    "plt.figure(figsize=(15,7))\n",
    "plt.subplot(1,4,1)\n",
    "plt.title(\"TextBlob results\")\n",
    "plt.pie(tb_counts.values, labels = tb_counts.index, explode = (0, 0, 0.25), autopct='%1.1f%%', shadow=False)\n",
    "plt.subplot(1,4,2)\n",
    "plt.title(\"VADER results\")\n",
    "plt.pie(vader_counts.values, labels = vader_counts.index, explode = (0, 0, 0.25), autopct='%1.1f%%', shadow=False)\n",
    "plt.subplot(1,4,3)\n",
    "plt.title(\"Actual results\")\n",
    "plt.pie(actual_counts.values, labels = actual_counts.index, explode = (0, 0, 0.25), autopct='%1.1f%%', shadow=False)\n"
   ]
  },
  {
   "cell_type": "markdown",
   "id": "97799e54",
   "metadata": {},
   "source": [
    "Observation:We Observe that Vader results results look a little close while the TextBlob results show a large variation."
   ]
  },
  {
   "cell_type": "code",
   "execution_count": 43,
   "id": "fddaa5b6",
   "metadata": {},
   "outputs": [
    {
     "name": "stdout",
     "output_type": "stream",
     "text": [
      "0.7285292344325979\n",
      "0.6675952284643623\n"
     ]
    }
   ],
   "source": [
    "from sklearn.metrics import accuracy_score\n",
    "accuracy_text = accuracy_score(df2['rate_pred'] , df2['Analysis'])\n",
    "accuracy_vader = accuracy_score(df2['rate_pred'] , df2['Vader Analysis'])\n",
    "print(accuracy_text)\n",
    "print(accuracy_vader)"
   ]
  },
  {
   "cell_type": "code",
   "execution_count": 45,
   "id": "e5626f0b",
   "metadata": {},
   "outputs": [],
   "source": [
    "df2.to_pickle(\"Ratings.pkl\")"
   ]
  }
 ],
 "metadata": {
  "kernelspec": {
   "display_name": "Python 3",
   "language": "python",
   "name": "python3"
  },
  "language_info": {
   "codemirror_mode": {
    "name": "ipython",
    "version": 3
   },
   "file_extension": ".py",
   "mimetype": "text/x-python",
   "name": "python",
   "nbconvert_exporter": "python",
   "pygments_lexer": "ipython3",
   "version": "3.8.8"
  }
 },
 "nbformat": 4,
 "nbformat_minor": 5
}
